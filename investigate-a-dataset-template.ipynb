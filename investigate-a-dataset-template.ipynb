{
 "cells": [
  {
   "cell_type": "markdown",
   "metadata": {},
   "source": [
    "\n",
    "# Project: No Show Appointment Data Analysis\n",
    "\n",
    "## Table of Contents\n",
    "<ul>\n",
    "<li><a href=\"#intro\">Introduction</a></li>\n",
    "<li><a href=\"#wrangling\">Data Wrangling</a></li>\n",
    "<li><a href=\"#eda\">Exploratory Data Analysis</a></li>\n",
    "<li><a href=\"#conclusions\">Conclusions</a></li>\n",
    "</ul>"
   ]
  },
  {
   "cell_type": "markdown",
   "metadata": {},
   "source": [
    "<a id='intro'></a>\n",
    "## Introduction\n",
    "\n",
    "> In this project, the data asscoiated with No Show Appointment will be analyzed.\n",
    "**Project Context: _A person makes a doctor appointment, receives all the instructions and no-show. Who to blame?_** \n",
    ">. In particular, the analysis goal is to find the factors affecting the patient to show up for a scheduled appointment. The data involves the following: scheduled date, gender, age, scholarship (True or False indicates whether or not the patient is enrolled in brasilian welfare program), Neighborhood (indicated the location of the hospital), Hipertension (True or False), Diabetes (True or False), Alcoholism (True or False), Handcap (True or False) and SMS_received (indicated whether 1 or more messages sent to the patient)."
   ]
  },
  {
   "cell_type": "code",
   "execution_count": 5,
   "metadata": {},
   "outputs": [],
   "source": [
    "# import numpy, pandas, matplotlib and seaborn packages\n",
    "import numpy as np\n",
    "import pandas as pd\n",
    "import matplotlib.pyplot as plt\n",
    "import seaborn as sns\n",
    "%matplotlib inline"
   ]
  },
  {
   "cell_type": "markdown",
   "metadata": {},
   "source": [
    "<a id='wrangling'></a>\n",
    "## Data Wrangling\n",
    "\n",
    "> In this section of the report, The data will be loaded, check for cleanliness, and then trim and clean the dataset for analysis.\n",
    "\n",
    "### General Properties"
   ]
  },
  {
   "cell_type": "code",
   "execution_count": 6,
   "metadata": {
    "scrolled": true
   },
   "outputs": [
    {
     "data": {
      "text/html": [
       "<div>\n",
       "<style scoped>\n",
       "    .dataframe tbody tr th:only-of-type {\n",
       "        vertical-align: middle;\n",
       "    }\n",
       "\n",
       "    .dataframe tbody tr th {\n",
       "        vertical-align: top;\n",
       "    }\n",
       "\n",
       "    .dataframe thead th {\n",
       "        text-align: right;\n",
       "    }\n",
       "</style>\n",
       "<table border=\"1\" class=\"dataframe\">\n",
       "  <thead>\n",
       "    <tr style=\"text-align: right;\">\n",
       "      <th></th>\n",
       "      <th>PatientId</th>\n",
       "      <th>AppointmentID</th>\n",
       "      <th>Gender</th>\n",
       "      <th>ScheduledDay</th>\n",
       "      <th>AppointmentDay</th>\n",
       "      <th>Age</th>\n",
       "      <th>Neighbourhood</th>\n",
       "      <th>Scholarship</th>\n",
       "      <th>Hipertension</th>\n",
       "      <th>Diabetes</th>\n",
       "      <th>Alcoholism</th>\n",
       "      <th>Handcap</th>\n",
       "      <th>SMS_received</th>\n",
       "      <th>No-show</th>\n",
       "    </tr>\n",
       "  </thead>\n",
       "  <tbody>\n",
       "    <tr>\n",
       "      <th>0</th>\n",
       "      <td>2.987250e+13</td>\n",
       "      <td>5642903</td>\n",
       "      <td>F</td>\n",
       "      <td>2016-04-29T18:38:08Z</td>\n",
       "      <td>2016-04-29T00:00:00Z</td>\n",
       "      <td>62</td>\n",
       "      <td>JARDIM DA PENHA</td>\n",
       "      <td>0</td>\n",
       "      <td>1</td>\n",
       "      <td>0</td>\n",
       "      <td>0</td>\n",
       "      <td>0</td>\n",
       "      <td>0</td>\n",
       "      <td>No</td>\n",
       "    </tr>\n",
       "    <tr>\n",
       "      <th>1</th>\n",
       "      <td>5.589978e+14</td>\n",
       "      <td>5642503</td>\n",
       "      <td>M</td>\n",
       "      <td>2016-04-29T16:08:27Z</td>\n",
       "      <td>2016-04-29T00:00:00Z</td>\n",
       "      <td>56</td>\n",
       "      <td>JARDIM DA PENHA</td>\n",
       "      <td>0</td>\n",
       "      <td>0</td>\n",
       "      <td>0</td>\n",
       "      <td>0</td>\n",
       "      <td>0</td>\n",
       "      <td>0</td>\n",
       "      <td>No</td>\n",
       "    </tr>\n",
       "    <tr>\n",
       "      <th>2</th>\n",
       "      <td>4.262962e+12</td>\n",
       "      <td>5642549</td>\n",
       "      <td>F</td>\n",
       "      <td>2016-04-29T16:19:04Z</td>\n",
       "      <td>2016-04-29T00:00:00Z</td>\n",
       "      <td>62</td>\n",
       "      <td>MATA DA PRAIA</td>\n",
       "      <td>0</td>\n",
       "      <td>0</td>\n",
       "      <td>0</td>\n",
       "      <td>0</td>\n",
       "      <td>0</td>\n",
       "      <td>0</td>\n",
       "      <td>No</td>\n",
       "    </tr>\n",
       "    <tr>\n",
       "      <th>3</th>\n",
       "      <td>8.679512e+11</td>\n",
       "      <td>5642828</td>\n",
       "      <td>F</td>\n",
       "      <td>2016-04-29T17:29:31Z</td>\n",
       "      <td>2016-04-29T00:00:00Z</td>\n",
       "      <td>8</td>\n",
       "      <td>PONTAL DE CAMBURI</td>\n",
       "      <td>0</td>\n",
       "      <td>0</td>\n",
       "      <td>0</td>\n",
       "      <td>0</td>\n",
       "      <td>0</td>\n",
       "      <td>0</td>\n",
       "      <td>No</td>\n",
       "    </tr>\n",
       "    <tr>\n",
       "      <th>4</th>\n",
       "      <td>8.841186e+12</td>\n",
       "      <td>5642494</td>\n",
       "      <td>F</td>\n",
       "      <td>2016-04-29T16:07:23Z</td>\n",
       "      <td>2016-04-29T00:00:00Z</td>\n",
       "      <td>56</td>\n",
       "      <td>JARDIM DA PENHA</td>\n",
       "      <td>0</td>\n",
       "      <td>1</td>\n",
       "      <td>1</td>\n",
       "      <td>0</td>\n",
       "      <td>0</td>\n",
       "      <td>0</td>\n",
       "      <td>No</td>\n",
       "    </tr>\n",
       "  </tbody>\n",
       "</table>\n",
       "</div>"
      ],
      "text/plain": [
       "      PatientId  AppointmentID Gender          ScheduledDay  \\\n",
       "0  2.987250e+13        5642903      F  2016-04-29T18:38:08Z   \n",
       "1  5.589978e+14        5642503      M  2016-04-29T16:08:27Z   \n",
       "2  4.262962e+12        5642549      F  2016-04-29T16:19:04Z   \n",
       "3  8.679512e+11        5642828      F  2016-04-29T17:29:31Z   \n",
       "4  8.841186e+12        5642494      F  2016-04-29T16:07:23Z   \n",
       "\n",
       "         AppointmentDay  Age      Neighbourhood  Scholarship  Hipertension  \\\n",
       "0  2016-04-29T00:00:00Z   62    JARDIM DA PENHA            0             1   \n",
       "1  2016-04-29T00:00:00Z   56    JARDIM DA PENHA            0             0   \n",
       "2  2016-04-29T00:00:00Z   62      MATA DA PRAIA            0             0   \n",
       "3  2016-04-29T00:00:00Z    8  PONTAL DE CAMBURI            0             0   \n",
       "4  2016-04-29T00:00:00Z   56    JARDIM DA PENHA            0             1   \n",
       "\n",
       "   Diabetes  Alcoholism  Handcap  SMS_received No-show  \n",
       "0         0           0        0             0      No  \n",
       "1         0           0        0             0      No  \n",
       "2         0           0        0             0      No  \n",
       "3         0           0        0             0      No  \n",
       "4         1           0        0             0      No  "
      ]
     },
     "execution_count": 6,
     "metadata": {},
     "output_type": "execute_result"
    }
   ],
   "source": [
    "# read the csv file and create a dataframe \n",
    "df= pd.read_csv('noshowappointments-kagglev2-may-2016.csv')\n",
    "df.head()"
   ]
  },
  {
   "cell_type": "code",
   "execution_count": 7,
   "metadata": {},
   "outputs": [
    {
     "data": {
      "text/plain": [
       "(110527, 14)"
      ]
     },
     "execution_count": 7,
     "metadata": {},
     "output_type": "execute_result"
    }
   ],
   "source": [
    "# Display the dimensions of the dataframe\n",
    "df.shape"
   ]
  },
  {
   "cell_type": "code",
   "execution_count": 8,
   "metadata": {},
   "outputs": [
    {
     "name": "stdout",
     "output_type": "stream",
     "text": [
      "<class 'pandas.core.frame.DataFrame'>\n",
      "RangeIndex: 110527 entries, 0 to 110526\n",
      "Data columns (total 14 columns):\n",
      " #   Column          Non-Null Count   Dtype  \n",
      "---  ------          --------------   -----  \n",
      " 0   PatientId       110527 non-null  float64\n",
      " 1   AppointmentID   110527 non-null  int64  \n",
      " 2   Gender          110527 non-null  object \n",
      " 3   ScheduledDay    110527 non-null  object \n",
      " 4   AppointmentDay  110527 non-null  object \n",
      " 5   Age             110527 non-null  int64  \n",
      " 6   Neighbourhood   110527 non-null  object \n",
      " 7   Scholarship     110527 non-null  int64  \n",
      " 8   Hipertension    110527 non-null  int64  \n",
      " 9   Diabetes        110527 non-null  int64  \n",
      " 10  Alcoholism      110527 non-null  int64  \n",
      " 11  Handcap         110527 non-null  int64  \n",
      " 12  SMS_received    110527 non-null  int64  \n",
      " 13  No-show         110527 non-null  object \n",
      "dtypes: float64(1), int64(8), object(5)\n",
      "memory usage: 11.8+ MB\n"
     ]
    }
   ],
   "source": [
    "# Display the data type for each variable in the data frame\n",
    "df.info()"
   ]
  },
  {
   "cell_type": "code",
   "execution_count": 9,
   "metadata": {
    "scrolled": true
   },
   "outputs": [
    {
     "data": {
      "text/html": [
       "<div>\n",
       "<style scoped>\n",
       "    .dataframe tbody tr th:only-of-type {\n",
       "        vertical-align: middle;\n",
       "    }\n",
       "\n",
       "    .dataframe tbody tr th {\n",
       "        vertical-align: top;\n",
       "    }\n",
       "\n",
       "    .dataframe thead th {\n",
       "        text-align: right;\n",
       "    }\n",
       "</style>\n",
       "<table border=\"1\" class=\"dataframe\">\n",
       "  <thead>\n",
       "    <tr style=\"text-align: right;\">\n",
       "      <th></th>\n",
       "      <th>PatientId</th>\n",
       "      <th>AppointmentID</th>\n",
       "      <th>Age</th>\n",
       "      <th>Scholarship</th>\n",
       "      <th>Hipertension</th>\n",
       "      <th>Diabetes</th>\n",
       "      <th>Alcoholism</th>\n",
       "      <th>Handcap</th>\n",
       "      <th>SMS_received</th>\n",
       "    </tr>\n",
       "  </thead>\n",
       "  <tbody>\n",
       "    <tr>\n",
       "      <th>count</th>\n",
       "      <td>1.105270e+05</td>\n",
       "      <td>1.105270e+05</td>\n",
       "      <td>110527.000000</td>\n",
       "      <td>110527.000000</td>\n",
       "      <td>110527.000000</td>\n",
       "      <td>110527.000000</td>\n",
       "      <td>110527.000000</td>\n",
       "      <td>110527.000000</td>\n",
       "      <td>110527.000000</td>\n",
       "    </tr>\n",
       "    <tr>\n",
       "      <th>mean</th>\n",
       "      <td>1.474963e+14</td>\n",
       "      <td>5.675305e+06</td>\n",
       "      <td>37.088874</td>\n",
       "      <td>0.098266</td>\n",
       "      <td>0.197246</td>\n",
       "      <td>0.071865</td>\n",
       "      <td>0.030400</td>\n",
       "      <td>0.022248</td>\n",
       "      <td>0.321026</td>\n",
       "    </tr>\n",
       "    <tr>\n",
       "      <th>std</th>\n",
       "      <td>2.560949e+14</td>\n",
       "      <td>7.129575e+04</td>\n",
       "      <td>23.110205</td>\n",
       "      <td>0.297675</td>\n",
       "      <td>0.397921</td>\n",
       "      <td>0.258265</td>\n",
       "      <td>0.171686</td>\n",
       "      <td>0.161543</td>\n",
       "      <td>0.466873</td>\n",
       "    </tr>\n",
       "    <tr>\n",
       "      <th>min</th>\n",
       "      <td>3.921784e+04</td>\n",
       "      <td>5.030230e+06</td>\n",
       "      <td>-1.000000</td>\n",
       "      <td>0.000000</td>\n",
       "      <td>0.000000</td>\n",
       "      <td>0.000000</td>\n",
       "      <td>0.000000</td>\n",
       "      <td>0.000000</td>\n",
       "      <td>0.000000</td>\n",
       "    </tr>\n",
       "    <tr>\n",
       "      <th>25%</th>\n",
       "      <td>4.172614e+12</td>\n",
       "      <td>5.640286e+06</td>\n",
       "      <td>18.000000</td>\n",
       "      <td>0.000000</td>\n",
       "      <td>0.000000</td>\n",
       "      <td>0.000000</td>\n",
       "      <td>0.000000</td>\n",
       "      <td>0.000000</td>\n",
       "      <td>0.000000</td>\n",
       "    </tr>\n",
       "    <tr>\n",
       "      <th>50%</th>\n",
       "      <td>3.173184e+13</td>\n",
       "      <td>5.680573e+06</td>\n",
       "      <td>37.000000</td>\n",
       "      <td>0.000000</td>\n",
       "      <td>0.000000</td>\n",
       "      <td>0.000000</td>\n",
       "      <td>0.000000</td>\n",
       "      <td>0.000000</td>\n",
       "      <td>0.000000</td>\n",
       "    </tr>\n",
       "    <tr>\n",
       "      <th>75%</th>\n",
       "      <td>9.439172e+13</td>\n",
       "      <td>5.725524e+06</td>\n",
       "      <td>55.000000</td>\n",
       "      <td>0.000000</td>\n",
       "      <td>0.000000</td>\n",
       "      <td>0.000000</td>\n",
       "      <td>0.000000</td>\n",
       "      <td>0.000000</td>\n",
       "      <td>1.000000</td>\n",
       "    </tr>\n",
       "    <tr>\n",
       "      <th>max</th>\n",
       "      <td>9.999816e+14</td>\n",
       "      <td>5.790484e+06</td>\n",
       "      <td>115.000000</td>\n",
       "      <td>1.000000</td>\n",
       "      <td>1.000000</td>\n",
       "      <td>1.000000</td>\n",
       "      <td>1.000000</td>\n",
       "      <td>4.000000</td>\n",
       "      <td>1.000000</td>\n",
       "    </tr>\n",
       "  </tbody>\n",
       "</table>\n",
       "</div>"
      ],
      "text/plain": [
       "          PatientId  AppointmentID            Age    Scholarship  \\\n",
       "count  1.105270e+05   1.105270e+05  110527.000000  110527.000000   \n",
       "mean   1.474963e+14   5.675305e+06      37.088874       0.098266   \n",
       "std    2.560949e+14   7.129575e+04      23.110205       0.297675   \n",
       "min    3.921784e+04   5.030230e+06      -1.000000       0.000000   \n",
       "25%    4.172614e+12   5.640286e+06      18.000000       0.000000   \n",
       "50%    3.173184e+13   5.680573e+06      37.000000       0.000000   \n",
       "75%    9.439172e+13   5.725524e+06      55.000000       0.000000   \n",
       "max    9.999816e+14   5.790484e+06     115.000000       1.000000   \n",
       "\n",
       "        Hipertension       Diabetes     Alcoholism        Handcap  \\\n",
       "count  110527.000000  110527.000000  110527.000000  110527.000000   \n",
       "mean        0.197246       0.071865       0.030400       0.022248   \n",
       "std         0.397921       0.258265       0.171686       0.161543   \n",
       "min         0.000000       0.000000       0.000000       0.000000   \n",
       "25%         0.000000       0.000000       0.000000       0.000000   \n",
       "50%         0.000000       0.000000       0.000000       0.000000   \n",
       "75%         0.000000       0.000000       0.000000       0.000000   \n",
       "max         1.000000       1.000000       1.000000       4.000000   \n",
       "\n",
       "        SMS_received  \n",
       "count  110527.000000  \n",
       "mean        0.321026  \n",
       "std         0.466873  \n",
       "min         0.000000  \n",
       "25%         0.000000  \n",
       "50%         0.000000  \n",
       "75%         1.000000  \n",
       "max         1.000000  "
      ]
     },
     "execution_count": 9,
     "metadata": {},
     "output_type": "execute_result"
    }
   ],
   "source": [
    "# show a describtive statistics for the variables in the data frame\n",
    "df.describe()"
   ]
  },
  {
   "cell_type": "code",
   "execution_count": 10,
   "metadata": {},
   "outputs": [
    {
     "data": {
      "text/plain": [
       "0"
      ]
     },
     "execution_count": 10,
     "metadata": {},
     "output_type": "execute_result"
    }
   ],
   "source": [
    "# check if there is duplicated data\n",
    "sum(df.duplicated())"
   ]
  },
  {
   "cell_type": "markdown",
   "metadata": {},
   "source": [
    "<a id='Cleaning'></a>\n",
    "## Data Cleaning\n",
    "\n",
    "> The data cleaning process involves the following based on the observation from the Data Wrangling section:\n",
    "**_renaming the columns which contains underscore_**, **_replacing the values of Age variable having 0 value with 0.5 value_**, **_dropping the row of Age variable with -1 value_**, **_replacing the values of Handcap variable >1 with a value= 1 as handcap variable should be either True or False_**"
   ]
  },
  {
   "cell_type": "code",
   "execution_count": 11,
   "metadata": {
    "scrolled": true
   },
   "outputs": [
    {
     "data": {
      "text/html": [
       "<div>\n",
       "<style scoped>\n",
       "    .dataframe tbody tr th:only-of-type {\n",
       "        vertical-align: middle;\n",
       "    }\n",
       "\n",
       "    .dataframe tbody tr th {\n",
       "        vertical-align: top;\n",
       "    }\n",
       "\n",
       "    .dataframe thead th {\n",
       "        text-align: right;\n",
       "    }\n",
       "</style>\n",
       "<table border=\"1\" class=\"dataframe\">\n",
       "  <thead>\n",
       "    <tr style=\"text-align: right;\">\n",
       "      <th></th>\n",
       "      <th>Gender</th>\n",
       "      <th>ScheduledDay</th>\n",
       "      <th>AppointmentDay</th>\n",
       "      <th>Age</th>\n",
       "      <th>Scholarship</th>\n",
       "      <th>Hipertension</th>\n",
       "      <th>Diabetes</th>\n",
       "      <th>Alcoholism</th>\n",
       "      <th>Handcap</th>\n",
       "      <th>SMS_received</th>\n",
       "      <th>No-show</th>\n",
       "    </tr>\n",
       "  </thead>\n",
       "  <tbody>\n",
       "    <tr>\n",
       "      <th>0</th>\n",
       "      <td>F</td>\n",
       "      <td>2016-04-29T18:38:08Z</td>\n",
       "      <td>2016-04-29T00:00:00Z</td>\n",
       "      <td>62</td>\n",
       "      <td>0</td>\n",
       "      <td>1</td>\n",
       "      <td>0</td>\n",
       "      <td>0</td>\n",
       "      <td>0</td>\n",
       "      <td>0</td>\n",
       "      <td>No</td>\n",
       "    </tr>\n",
       "    <tr>\n",
       "      <th>1</th>\n",
       "      <td>M</td>\n",
       "      <td>2016-04-29T16:08:27Z</td>\n",
       "      <td>2016-04-29T00:00:00Z</td>\n",
       "      <td>56</td>\n",
       "      <td>0</td>\n",
       "      <td>0</td>\n",
       "      <td>0</td>\n",
       "      <td>0</td>\n",
       "      <td>0</td>\n",
       "      <td>0</td>\n",
       "      <td>No</td>\n",
       "    </tr>\n",
       "    <tr>\n",
       "      <th>2</th>\n",
       "      <td>F</td>\n",
       "      <td>2016-04-29T16:19:04Z</td>\n",
       "      <td>2016-04-29T00:00:00Z</td>\n",
       "      <td>62</td>\n",
       "      <td>0</td>\n",
       "      <td>0</td>\n",
       "      <td>0</td>\n",
       "      <td>0</td>\n",
       "      <td>0</td>\n",
       "      <td>0</td>\n",
       "      <td>No</td>\n",
       "    </tr>\n",
       "    <tr>\n",
       "      <th>3</th>\n",
       "      <td>F</td>\n",
       "      <td>2016-04-29T17:29:31Z</td>\n",
       "      <td>2016-04-29T00:00:00Z</td>\n",
       "      <td>8</td>\n",
       "      <td>0</td>\n",
       "      <td>0</td>\n",
       "      <td>0</td>\n",
       "      <td>0</td>\n",
       "      <td>0</td>\n",
       "      <td>0</td>\n",
       "      <td>No</td>\n",
       "    </tr>\n",
       "    <tr>\n",
       "      <th>4</th>\n",
       "      <td>F</td>\n",
       "      <td>2016-04-29T16:07:23Z</td>\n",
       "      <td>2016-04-29T00:00:00Z</td>\n",
       "      <td>56</td>\n",
       "      <td>0</td>\n",
       "      <td>1</td>\n",
       "      <td>1</td>\n",
       "      <td>0</td>\n",
       "      <td>0</td>\n",
       "      <td>0</td>\n",
       "      <td>No</td>\n",
       "    </tr>\n",
       "  </tbody>\n",
       "</table>\n",
       "</div>"
      ],
      "text/plain": [
       "  Gender          ScheduledDay        AppointmentDay  Age  Scholarship  \\\n",
       "0      F  2016-04-29T18:38:08Z  2016-04-29T00:00:00Z   62            0   \n",
       "1      M  2016-04-29T16:08:27Z  2016-04-29T00:00:00Z   56            0   \n",
       "2      F  2016-04-29T16:19:04Z  2016-04-29T00:00:00Z   62            0   \n",
       "3      F  2016-04-29T17:29:31Z  2016-04-29T00:00:00Z    8            0   \n",
       "4      F  2016-04-29T16:07:23Z  2016-04-29T00:00:00Z   56            0   \n",
       "\n",
       "   Hipertension  Diabetes  Alcoholism  Handcap  SMS_received No-show  \n",
       "0             1         0           0        0             0      No  \n",
       "1             0         0           0        0             0      No  \n",
       "2             0         0           0        0             0      No  \n",
       "3             0         0           0        0             0      No  \n",
       "4             1         1           0        0             0      No  "
      ]
     },
     "execution_count": 11,
     "metadata": {},
     "output_type": "execute_result"
    }
   ],
   "source": [
    "# After discussing the structure of the data and any problems that need to be\n",
    "#   cleaned, perform those cleaning steps in the second part of this section.\n",
    "# Drop the columns that will not be utilized in the analysis\n",
    "df.drop(columns=['PatientId','AppointmentID','Neighbourhood'], axis=1, inplace=True)\n",
    "df.head()"
   ]
  },
  {
   "cell_type": "code",
   "execution_count": 12,
   "metadata": {},
   "outputs": [
    {
     "data": {
      "text/html": [
       "<div>\n",
       "<style scoped>\n",
       "    .dataframe tbody tr th:only-of-type {\n",
       "        vertical-align: middle;\n",
       "    }\n",
       "\n",
       "    .dataframe tbody tr th {\n",
       "        vertical-align: top;\n",
       "    }\n",
       "\n",
       "    .dataframe thead th {\n",
       "        text-align: right;\n",
       "    }\n",
       "</style>\n",
       "<table border=\"1\" class=\"dataframe\">\n",
       "  <thead>\n",
       "    <tr style=\"text-align: right;\">\n",
       "      <th></th>\n",
       "      <th>Gender</th>\n",
       "      <th>ScheduledDay</th>\n",
       "      <th>AppointmentDay</th>\n",
       "      <th>Age</th>\n",
       "      <th>Scholarship</th>\n",
       "      <th>Hipertension</th>\n",
       "      <th>Diabetes</th>\n",
       "      <th>Alcoholism</th>\n",
       "      <th>Handcap</th>\n",
       "      <th>SMSreceived</th>\n",
       "      <th>Noshow</th>\n",
       "    </tr>\n",
       "  </thead>\n",
       "  <tbody>\n",
       "    <tr>\n",
       "      <th>0</th>\n",
       "      <td>F</td>\n",
       "      <td>2016-04-29T18:38:08Z</td>\n",
       "      <td>2016-04-29T00:00:00Z</td>\n",
       "      <td>62</td>\n",
       "      <td>0</td>\n",
       "      <td>1</td>\n",
       "      <td>0</td>\n",
       "      <td>0</td>\n",
       "      <td>0</td>\n",
       "      <td>0</td>\n",
       "      <td>No</td>\n",
       "    </tr>\n",
       "  </tbody>\n",
       "</table>\n",
       "</div>"
      ],
      "text/plain": [
       "  Gender          ScheduledDay        AppointmentDay  Age  Scholarship  \\\n",
       "0      F  2016-04-29T18:38:08Z  2016-04-29T00:00:00Z   62            0   \n",
       "\n",
       "   Hipertension  Diabetes  Alcoholism  Handcap  SMSreceived Noshow  \n",
       "0             1         0           0        0            0     No  "
      ]
     },
     "execution_count": 12,
     "metadata": {},
     "output_type": "execute_result"
    }
   ],
   "source": [
    "# rename the columns names which contains underscore, to facilitate using those names in analysis\n",
    "df.rename(columns={'No-show':'Noshow', 'SMS_received':'SMSreceived'}, inplace=True)\n",
    "df.head(1)"
   ]
  },
  {
   "cell_type": "code",
   "execution_count": 13,
   "metadata": {
    "scrolled": true
   },
   "outputs": [
    {
     "data": {
      "image/png": "[encoded data removed]",
      "text/plain": [
       "<Figure size 720x576 with 9 Axes>"
      ]
     },
     "metadata": {
      "needs_background": "light"
     },
     "output_type": "display_data"
    }
   ],
   "source": [
    "# create a histogram for all variable in dataframe\n",
    "df.hist(figsize=(10,8));"
   ]
  },
  {
   "cell_type": "code",
   "execution_count": 14,
   "metadata": {},
   "outputs": [
    {
     "data": {
      "text/html": [
       "<div>\n",
       "<style scoped>\n",
       "    .dataframe tbody tr th:only-of-type {\n",
       "        vertical-align: middle;\n",
       "    }\n",
       "\n",
       "    .dataframe tbody tr th {\n",
       "        vertical-align: top;\n",
       "    }\n",
       "\n",
       "    .dataframe thead th {\n",
       "        text-align: right;\n",
       "    }\n",
       "</style>\n",
       "<table border=\"1\" class=\"dataframe\">\n",
       "  <thead>\n",
       "    <tr style=\"text-align: right;\">\n",
       "      <th></th>\n",
       "      <th>Gender</th>\n",
       "      <th>ScheduledDay</th>\n",
       "      <th>AppointmentDay</th>\n",
       "      <th>Age</th>\n",
       "      <th>Scholarship</th>\n",
       "      <th>Hipertension</th>\n",
       "      <th>Diabetes</th>\n",
       "      <th>Alcoholism</th>\n",
       "      <th>Handcap</th>\n",
       "      <th>SMSreceived</th>\n",
       "      <th>Noshow</th>\n",
       "    </tr>\n",
       "  </thead>\n",
       "  <tbody>\n",
       "    <tr>\n",
       "      <th>59</th>\n",
       "      <td>F</td>\n",
       "      <td>2016-04-29T08:08:43Z</td>\n",
       "      <td>2016-04-29T00:00:00Z</td>\n",
       "      <td>0</td>\n",
       "      <td>0</td>\n",
       "      <td>0</td>\n",
       "      <td>0</td>\n",
       "      <td>0</td>\n",
       "      <td>0</td>\n",
       "      <td>0</td>\n",
       "      <td>No</td>\n",
       "    </tr>\n",
       "    <tr>\n",
       "      <th>63</th>\n",
       "      <td>M</td>\n",
       "      <td>2016-04-27T10:46:12Z</td>\n",
       "      <td>2016-04-29T00:00:00Z</td>\n",
       "      <td>0</td>\n",
       "      <td>0</td>\n",
       "      <td>0</td>\n",
       "      <td>0</td>\n",
       "      <td>0</td>\n",
       "      <td>0</td>\n",
       "      <td>0</td>\n",
       "      <td>No</td>\n",
       "    </tr>\n",
       "    <tr>\n",
       "      <th>64</th>\n",
       "      <td>M</td>\n",
       "      <td>2016-04-25T13:28:21Z</td>\n",
       "      <td>2016-04-29T00:00:00Z</td>\n",
       "      <td>0</td>\n",
       "      <td>0</td>\n",
       "      <td>0</td>\n",
       "      <td>0</td>\n",
       "      <td>0</td>\n",
       "      <td>0</td>\n",
       "      <td>1</td>\n",
       "      <td>No</td>\n",
       "    </tr>\n",
       "    <tr>\n",
       "      <th>65</th>\n",
       "      <td>M</td>\n",
       "      <td>2016-04-27T10:48:50Z</td>\n",
       "      <td>2016-04-29T00:00:00Z</td>\n",
       "      <td>0</td>\n",
       "      <td>0</td>\n",
       "      <td>0</td>\n",
       "      <td>0</td>\n",
       "      <td>0</td>\n",
       "      <td>0</td>\n",
       "      <td>0</td>\n",
       "      <td>No</td>\n",
       "    </tr>\n",
       "    <tr>\n",
       "      <th>67</th>\n",
       "      <td>F</td>\n",
       "      <td>2016-04-29T08:53:02Z</td>\n",
       "      <td>2016-04-29T00:00:00Z</td>\n",
       "      <td>0</td>\n",
       "      <td>0</td>\n",
       "      <td>0</td>\n",
       "      <td>0</td>\n",
       "      <td>0</td>\n",
       "      <td>0</td>\n",
       "      <td>0</td>\n",
       "      <td>No</td>\n",
       "    </tr>\n",
       "    <tr>\n",
       "      <th>...</th>\n",
       "      <td>...</td>\n",
       "      <td>...</td>\n",
       "      <td>...</td>\n",
       "      <td>...</td>\n",
       "      <td>...</td>\n",
       "      <td>...</td>\n",
       "      <td>...</td>\n",
       "      <td>...</td>\n",
       "      <td>...</td>\n",
       "      <td>...</td>\n",
       "      <td>...</td>\n",
       "    </tr>\n",
       "    <tr>\n",
       "      <th>110345</th>\n",
       "      <td>F</td>\n",
       "      <td>2016-05-16T12:30:58Z</td>\n",
       "      <td>2016-06-01T00:00:00Z</td>\n",
       "      <td>0</td>\n",
       "      <td>0</td>\n",
       "      <td>0</td>\n",
       "      <td>0</td>\n",
       "      <td>0</td>\n",
       "      <td>0</td>\n",
       "      <td>0</td>\n",
       "      <td>No</td>\n",
       "    </tr>\n",
       "    <tr>\n",
       "      <th>110346</th>\n",
       "      <td>M</td>\n",
       "      <td>2016-06-06T14:22:34Z</td>\n",
       "      <td>2016-06-08T00:00:00Z</td>\n",
       "      <td>0</td>\n",
       "      <td>0</td>\n",
       "      <td>0</td>\n",
       "      <td>0</td>\n",
       "      <td>0</td>\n",
       "      <td>0</td>\n",
       "      <td>0</td>\n",
       "      <td>No</td>\n",
       "    </tr>\n",
       "    <tr>\n",
       "      <th>110454</th>\n",
       "      <td>F</td>\n",
       "      <td>2016-06-03T15:18:44Z</td>\n",
       "      <td>2016-06-03T00:00:00Z</td>\n",
       "      <td>0</td>\n",
       "      <td>0</td>\n",
       "      <td>0</td>\n",
       "      <td>0</td>\n",
       "      <td>0</td>\n",
       "      <td>0</td>\n",
       "      <td>0</td>\n",
       "      <td>No</td>\n",
       "    </tr>\n",
       "    <tr>\n",
       "      <th>110460</th>\n",
       "      <td>F</td>\n",
       "      <td>2016-06-03T08:56:51Z</td>\n",
       "      <td>2016-06-03T00:00:00Z</td>\n",
       "      <td>0</td>\n",
       "      <td>0</td>\n",
       "      <td>0</td>\n",
       "      <td>0</td>\n",
       "      <td>0</td>\n",
       "      <td>0</td>\n",
       "      <td>0</td>\n",
       "      <td>No</td>\n",
       "    </tr>\n",
       "    <tr>\n",
       "      <th>110507</th>\n",
       "      <td>F</td>\n",
       "      <td>2016-06-08T09:04:18Z</td>\n",
       "      <td>2016-06-08T00:00:00Z</td>\n",
       "      <td>0</td>\n",
       "      <td>0</td>\n",
       "      <td>0</td>\n",
       "      <td>0</td>\n",
       "      <td>0</td>\n",
       "      <td>0</td>\n",
       "      <td>0</td>\n",
       "      <td>No</td>\n",
       "    </tr>\n",
       "  </tbody>\n",
       "</table>\n",
       "<p>3540 rows × 11 columns</p>\n",
       "</div>"
      ],
      "text/plain": [
       "       Gender          ScheduledDay        AppointmentDay  Age  Scholarship  \\\n",
       "59          F  2016-04-29T08:08:43Z  2016-04-29T00:00:00Z    0            0   \n",
       "63          M  2016-04-27T10:46:12Z  2016-04-29T00:00:00Z    0            0   \n",
       "64          M  2016-04-25T13:28:21Z  2016-04-29T00:00:00Z    0            0   \n",
       "65          M  2016-04-27T10:48:50Z  2016-04-29T00:00:00Z    0            0   \n",
       "67          F  2016-04-29T08:53:02Z  2016-04-29T00:00:00Z    0            0   \n",
       "...       ...                   ...                   ...  ...          ...   \n",
       "110345      F  2016-05-16T12:30:58Z  2016-06-01T00:00:00Z    0            0   \n",
       "110346      M  2016-06-06T14:22:34Z  2016-06-08T00:00:00Z    0            0   \n",
       "110454      F  2016-06-03T15:18:44Z  2016-06-03T00:00:00Z    0            0   \n",
       "110460      F  2016-06-03T08:56:51Z  2016-06-03T00:00:00Z    0            0   \n",
       "110507      F  2016-06-08T09:04:18Z  2016-06-08T00:00:00Z    0            0   \n",
       "\n",
       "        Hipertension  Diabetes  Alcoholism  Handcap  SMSreceived Noshow  \n",
       "59                 0         0           0        0            0     No  \n",
       "63                 0         0           0        0            0     No  \n",
       "64                 0         0           0        0            1     No  \n",
       "65                 0         0           0        0            0     No  \n",
       "67                 0         0           0        0            0     No  \n",
       "...              ...       ...         ...      ...          ...    ...  \n",
       "110345             0         0           0        0            0     No  \n",
       "110346             0         0           0        0            0     No  \n",
       "110454             0         0           0        0            0     No  \n",
       "110460             0         0           0        0            0     No  \n",
       "110507             0         0           0        0            0     No  \n",
       "\n",
       "[3540 rows x 11 columns]"
      ]
     },
     "execution_count": 14,
     "metadata": {},
     "output_type": "execute_result"
    }
   ],
   "source": [
    "# The describtive statistics shows the Age minimum value = -1. Dsiplay the rows with Age <0 \n",
    "df.query('Age <= 0')"
   ]
  },
  {
   "cell_type": "code",
   "execution_count": 15,
   "metadata": {
    "scrolled": true
   },
   "outputs": [
    {
     "data": {
      "text/plain": [
       "Age   Noshow\n",
       "-1    No           1\n",
       " 0    No        2900\n",
       "      Yes        639\n",
       " 1    No        1858\n",
       "      Yes        415\n",
       "                ... \n",
       " 99   No           1\n",
       " 100  No           4\n",
       " 102  No           2\n",
       " 115  Yes          3\n",
       "      No           2\n",
       "Name: Noshow, Length: 204, dtype: int64"
      ]
     },
     "execution_count": 15,
     "metadata": {},
     "output_type": "execute_result"
    }
   ],
   "source": [
    "# check the values and counts of Age variable. it seems the count of 0 Age close to the count of 1 year old.\n",
    "# this could be infants with less than 1 year old. \n",
    "df.groupby('Age')['Noshow'].value_counts()"
   ]
  },
  {
   "cell_type": "code",
   "execution_count": 16,
   "metadata": {},
   "outputs": [],
   "source": [
    "# The value of 0 Age will be changed with 0.5 (6 month) as the number of patients with 0 value who showup around 2900.\n",
    "# hence this number con not be ignored.\n",
    "df.Age = df['Age'].replace(df['Age'].value_counts().index[0],0.5)"
   ]
  },
  {
   "cell_type": "code",
   "execution_count": 17,
   "metadata": {},
   "outputs": [],
   "source": [
    "# drop the row with Age value = -1\n",
    "df.drop(index=df[df.Age < 0].index, axis=0, inplace=True)"
   ]
  },
  {
   "cell_type": "code",
   "execution_count": 18,
   "metadata": {},
   "outputs": [
    {
     "data": {
      "text/plain": [
       "Age    Noshow\n",
       "0.5    No        2900\n",
       "       Yes        639\n",
       "1.0    No        1858\n",
       "       Yes        415\n",
       "2.0    No        1366\n",
       "                 ... \n",
       "99.0   No           1\n",
       "100.0  No           4\n",
       "102.0  No           2\n",
       "115.0  Yes          3\n",
       "       No           2\n",
       "Name: Noshow, Length: 203, dtype: int64"
      ]
     },
     "execution_count": 18,
     "metadata": {},
     "output_type": "execute_result"
    }
   ],
   "source": [
    "# verify the values and counts of the Age variable after modification\n",
    "df.groupby('Age')['Noshow'].value_counts()"
   ]
  },
  {
   "cell_type": "code",
   "execution_count": 19,
   "metadata": {},
   "outputs": [
    {
     "data": {
      "text/plain": [
       "(110526, 11)"
      ]
     },
     "execution_count": 19,
     "metadata": {},
     "output_type": "execute_result"
    }
   ],
   "source": [
    "# display the dimensions of the df after removing the Age row with -1 value\n",
    "df.shape"
   ]
  },
  {
   "cell_type": "code",
   "execution_count": 20,
   "metadata": {},
   "outputs": [
    {
     "data": {
      "text/plain": [
       "Handcap  Noshow\n",
       "0        No        86373\n",
       "         Yes       21912\n",
       "1        No         1676\n",
       "         Yes         366\n",
       "2        No          146\n",
       "         Yes          37\n",
       "3        No           10\n",
       "         Yes           3\n",
       "4        No            2\n",
       "         Yes           1\n",
       "Name: Noshow, dtype: int64"
      ]
     },
     "execution_count": 20,
     "metadata": {},
     "output_type": "execute_result"
    }
   ],
   "source": [
    "# display the counts of Handcap with showup/No showup condition. \n",
    "df.groupby('Handcap')['Noshow'].value_counts()"
   ]
  },
  {
   "cell_type": "markdown",
   "metadata": {},
   "source": [
    ">The counts of Handcap >1 is around 199.\n",
    " it can be either deleted from data set due to its small size compared to the dataset size. But it is prefered to keep it but change its value to be 1"
   ]
  },
  {
   "cell_type": "code",
   "execution_count": 21,
   "metadata": {},
   "outputs": [
    {
     "data": {
      "text/html": [
       "<div>\n",
       "<style scoped>\n",
       "    .dataframe tbody tr th:only-of-type {\n",
       "        vertical-align: middle;\n",
       "    }\n",
       "\n",
       "    .dataframe tbody tr th {\n",
       "        vertical-align: top;\n",
       "    }\n",
       "\n",
       "    .dataframe thead th {\n",
       "        text-align: right;\n",
       "    }\n",
       "</style>\n",
       "<table border=\"1\" class=\"dataframe\">\n",
       "  <thead>\n",
       "    <tr style=\"text-align: right;\">\n",
       "      <th></th>\n",
       "      <th>Gender</th>\n",
       "      <th>ScheduledDay</th>\n",
       "      <th>AppointmentDay</th>\n",
       "      <th>Age</th>\n",
       "      <th>Scholarship</th>\n",
       "      <th>Hipertension</th>\n",
       "      <th>Diabetes</th>\n",
       "      <th>Alcoholism</th>\n",
       "      <th>Handcap</th>\n",
       "      <th>SMSreceived</th>\n",
       "      <th>Noshow</th>\n",
       "    </tr>\n",
       "  </thead>\n",
       "  <tbody>\n",
       "    <tr>\n",
       "      <th>946</th>\n",
       "      <td>M</td>\n",
       "      <td>2016-04-14T09:26:08Z</td>\n",
       "      <td>2016-04-29T00:00:00Z</td>\n",
       "      <td>94.0</td>\n",
       "      <td>0</td>\n",
       "      <td>1</td>\n",
       "      <td>1</td>\n",
       "      <td>0</td>\n",
       "      <td>2</td>\n",
       "      <td>1</td>\n",
       "      <td>No</td>\n",
       "    </tr>\n",
       "    <tr>\n",
       "      <th>1665</th>\n",
       "      <td>M</td>\n",
       "      <td>2016-03-30T09:16:41Z</td>\n",
       "      <td>2016-04-29T00:00:00Z</td>\n",
       "      <td>64.0</td>\n",
       "      <td>0</td>\n",
       "      <td>1</td>\n",
       "      <td>0</td>\n",
       "      <td>1</td>\n",
       "      <td>2</td>\n",
       "      <td>1</td>\n",
       "      <td>No</td>\n",
       "    </tr>\n",
       "    <tr>\n",
       "      <th>1666</th>\n",
       "      <td>M</td>\n",
       "      <td>2016-03-30T09:16:41Z</td>\n",
       "      <td>2016-04-29T00:00:00Z</td>\n",
       "      <td>64.0</td>\n",
       "      <td>0</td>\n",
       "      <td>1</td>\n",
       "      <td>0</td>\n",
       "      <td>1</td>\n",
       "      <td>2</td>\n",
       "      <td>0</td>\n",
       "      <td>No</td>\n",
       "    </tr>\n",
       "    <tr>\n",
       "      <th>2071</th>\n",
       "      <td>M</td>\n",
       "      <td>2016-04-29T10:08:48Z</td>\n",
       "      <td>2016-04-29T00:00:00Z</td>\n",
       "      <td>64.0</td>\n",
       "      <td>0</td>\n",
       "      <td>1</td>\n",
       "      <td>0</td>\n",
       "      <td>1</td>\n",
       "      <td>2</td>\n",
       "      <td>0</td>\n",
       "      <td>No</td>\n",
       "    </tr>\n",
       "    <tr>\n",
       "      <th>2091</th>\n",
       "      <td>F</td>\n",
       "      <td>2016-04-29T08:13:59Z</td>\n",
       "      <td>2016-04-29T00:00:00Z</td>\n",
       "      <td>11.0</td>\n",
       "      <td>0</td>\n",
       "      <td>0</td>\n",
       "      <td>0</td>\n",
       "      <td>0</td>\n",
       "      <td>2</td>\n",
       "      <td>0</td>\n",
       "      <td>No</td>\n",
       "    </tr>\n",
       "    <tr>\n",
       "      <th>...</th>\n",
       "      <td>...</td>\n",
       "      <td>...</td>\n",
       "      <td>...</td>\n",
       "      <td>...</td>\n",
       "      <td>...</td>\n",
       "      <td>...</td>\n",
       "      <td>...</td>\n",
       "      <td>...</td>\n",
       "      <td>...</td>\n",
       "      <td>...</td>\n",
       "      <td>...</td>\n",
       "    </tr>\n",
       "    <tr>\n",
       "      <th>108376</th>\n",
       "      <td>F</td>\n",
       "      <td>2016-06-01T08:48:28Z</td>\n",
       "      <td>2016-06-07T00:00:00Z</td>\n",
       "      <td>44.0</td>\n",
       "      <td>0</td>\n",
       "      <td>1</td>\n",
       "      <td>1</td>\n",
       "      <td>0</td>\n",
       "      <td>2</td>\n",
       "      <td>1</td>\n",
       "      <td>No</td>\n",
       "    </tr>\n",
       "    <tr>\n",
       "      <th>109484</th>\n",
       "      <td>M</td>\n",
       "      <td>2016-05-31T11:45:57Z</td>\n",
       "      <td>2016-06-02T00:00:00Z</td>\n",
       "      <td>64.0</td>\n",
       "      <td>0</td>\n",
       "      <td>1</td>\n",
       "      <td>1</td>\n",
       "      <td>0</td>\n",
       "      <td>2</td>\n",
       "      <td>0</td>\n",
       "      <td>No</td>\n",
       "    </tr>\n",
       "    <tr>\n",
       "      <th>109733</th>\n",
       "      <td>F</td>\n",
       "      <td>2016-06-03T16:11:00Z</td>\n",
       "      <td>2016-06-07T00:00:00Z</td>\n",
       "      <td>34.0</td>\n",
       "      <td>0</td>\n",
       "      <td>0</td>\n",
       "      <td>0</td>\n",
       "      <td>0</td>\n",
       "      <td>2</td>\n",
       "      <td>1</td>\n",
       "      <td>No</td>\n",
       "    </tr>\n",
       "    <tr>\n",
       "      <th>109975</th>\n",
       "      <td>M</td>\n",
       "      <td>2016-06-02T16:07:36Z</td>\n",
       "      <td>2016-06-06T00:00:00Z</td>\n",
       "      <td>39.0</td>\n",
       "      <td>1</td>\n",
       "      <td>0</td>\n",
       "      <td>0</td>\n",
       "      <td>0</td>\n",
       "      <td>2</td>\n",
       "      <td>1</td>\n",
       "      <td>No</td>\n",
       "    </tr>\n",
       "    <tr>\n",
       "      <th>110107</th>\n",
       "      <td>F</td>\n",
       "      <td>2016-06-02T06:44:00Z</td>\n",
       "      <td>2016-06-06T00:00:00Z</td>\n",
       "      <td>44.0</td>\n",
       "      <td>0</td>\n",
       "      <td>0</td>\n",
       "      <td>0</td>\n",
       "      <td>0</td>\n",
       "      <td>2</td>\n",
       "      <td>1</td>\n",
       "      <td>No</td>\n",
       "    </tr>\n",
       "  </tbody>\n",
       "</table>\n",
       "<p>199 rows × 11 columns</p>\n",
       "</div>"
      ],
      "text/plain": [
       "       Gender          ScheduledDay        AppointmentDay   Age  Scholarship  \\\n",
       "946         M  2016-04-14T09:26:08Z  2016-04-29T00:00:00Z  94.0            0   \n",
       "1665        M  2016-03-30T09:16:41Z  2016-04-29T00:00:00Z  64.0            0   \n",
       "1666        M  2016-03-30T09:16:41Z  2016-04-29T00:00:00Z  64.0            0   \n",
       "2071        M  2016-04-29T10:08:48Z  2016-04-29T00:00:00Z  64.0            0   \n",
       "2091        F  2016-04-29T08:13:59Z  2016-04-29T00:00:00Z  11.0            0   \n",
       "...       ...                   ...                   ...   ...          ...   \n",
       "108376      F  2016-06-01T08:48:28Z  2016-06-07T00:00:00Z  44.0            0   \n",
       "109484      M  2016-05-31T11:45:57Z  2016-06-02T00:00:00Z  64.0            0   \n",
       "109733      F  2016-06-03T16:11:00Z  2016-06-07T00:00:00Z  34.0            0   \n",
       "109975      M  2016-06-02T16:07:36Z  2016-06-06T00:00:00Z  39.0            1   \n",
       "110107      F  2016-06-02T06:44:00Z  2016-06-06T00:00:00Z  44.0            0   \n",
       "\n",
       "        Hipertension  Diabetes  Alcoholism  Handcap  SMSreceived Noshow  \n",
       "946                1         1           0        2            1     No  \n",
       "1665               1         0           1        2            1     No  \n",
       "1666               1         0           1        2            0     No  \n",
       "2071               1         0           1        2            0     No  \n",
       "2091               0         0           0        2            0     No  \n",
       "...              ...       ...         ...      ...          ...    ...  \n",
       "108376             1         1           0        2            1     No  \n",
       "109484             1         1           0        2            0     No  \n",
       "109733             0         0           0        2            1     No  \n",
       "109975             0         0           0        2            1     No  \n",
       "110107             0         0           0        2            1     No  \n",
       "\n",
       "[199 rows x 11 columns]"
      ]
     },
     "execution_count": 21,
     "metadata": {},
     "output_type": "execute_result"
    }
   ],
   "source": [
    "# The describtive statistics shows Handcap max value =4, wheraas, it should be 0 or 1 (True or false). di\n",
    "# Display the dataframe with handcap values > 1\n",
    "df.query(\"Handcap > 1\")"
   ]
  },
  {
   "cell_type": "code",
   "execution_count": 22,
   "metadata": {},
   "outputs": [
    {
     "data": {
      "text/plain": [
       "0    108285\n",
       "1      2042\n",
       "2       183\n",
       "3        13\n",
       "4         3\n",
       "Name: Handcap, dtype: int64"
      ]
     },
     "execution_count": 22,
     "metadata": {},
     "output_type": "execute_result"
    }
   ],
   "source": [
    "# display the values for Handcap variable\n",
    "df['Handcap'].value_counts()"
   ]
  },
  {
   "cell_type": "code",
   "execution_count": 23,
   "metadata": {},
   "outputs": [],
   "source": [
    "# Replace the values of Handcap with values > 1 to 1\n",
    "df.Handcap = df['Handcap'].replace(df['Handcap'].value_counts().index[2:],1)"
   ]
  },
  {
   "cell_type": "code",
   "execution_count": 24,
   "metadata": {},
   "outputs": [
    {
     "data": {
      "text/html": [
       "<div>\n",
       "<style scoped>\n",
       "    .dataframe tbody tr th:only-of-type {\n",
       "        vertical-align: middle;\n",
       "    }\n",
       "\n",
       "    .dataframe tbody tr th {\n",
       "        vertical-align: top;\n",
       "    }\n",
       "\n",
       "    .dataframe thead th {\n",
       "        text-align: right;\n",
       "    }\n",
       "</style>\n",
       "<table border=\"1\" class=\"dataframe\">\n",
       "  <thead>\n",
       "    <tr style=\"text-align: right;\">\n",
       "      <th></th>\n",
       "      <th>Gender</th>\n",
       "      <th>ScheduledDay</th>\n",
       "      <th>AppointmentDay</th>\n",
       "      <th>Age</th>\n",
       "      <th>Scholarship</th>\n",
       "      <th>Hipertension</th>\n",
       "      <th>Diabetes</th>\n",
       "      <th>Alcoholism</th>\n",
       "      <th>Handcap</th>\n",
       "      <th>SMSreceived</th>\n",
       "      <th>Noshow</th>\n",
       "    </tr>\n",
       "  </thead>\n",
       "  <tbody>\n",
       "  </tbody>\n",
       "</table>\n",
       "</div>"
      ],
      "text/plain": [
       "Empty DataFrame\n",
       "Columns: [Gender, ScheduledDay, AppointmentDay, Age, Scholarship, Hipertension, Diabetes, Alcoholism, Handcap, SMSreceived, Noshow]\n",
       "Index: []"
      ]
     },
     "execution_count": 24,
     "metadata": {},
     "output_type": "execute_result"
    }
   ],
   "source": [
    "# verify whether there are handcap values > 1\n",
    "df.query(\"Handcap > 1\")"
   ]
  },
  {
   "cell_type": "code",
   "execution_count": 25,
   "metadata": {
    "scrolled": false
   },
   "outputs": [
    {
     "data": {
      "text/html": [
       "<div>\n",
       "<style scoped>\n",
       "    .dataframe tbody tr th:only-of-type {\n",
       "        vertical-align: middle;\n",
       "    }\n",
       "\n",
       "    .dataframe tbody tr th {\n",
       "        vertical-align: top;\n",
       "    }\n",
       "\n",
       "    .dataframe thead th {\n",
       "        text-align: right;\n",
       "    }\n",
       "</style>\n",
       "<table border=\"1\" class=\"dataframe\">\n",
       "  <thead>\n",
       "    <tr style=\"text-align: right;\">\n",
       "      <th></th>\n",
       "      <th>Age</th>\n",
       "      <th>Scholarship</th>\n",
       "      <th>Hipertension</th>\n",
       "      <th>Diabetes</th>\n",
       "      <th>Alcoholism</th>\n",
       "      <th>Handcap</th>\n",
       "      <th>SMSreceived</th>\n",
       "    </tr>\n",
       "  </thead>\n",
       "  <tbody>\n",
       "    <tr>\n",
       "      <th>count</th>\n",
       "      <td>110526.000000</td>\n",
       "      <td>110526.000000</td>\n",
       "      <td>110526.000000</td>\n",
       "      <td>110526.000000</td>\n",
       "      <td>110526.000000</td>\n",
       "      <td>110526.000000</td>\n",
       "      <td>110526.000000</td>\n",
       "    </tr>\n",
       "    <tr>\n",
       "      <th>mean</th>\n",
       "      <td>37.105229</td>\n",
       "      <td>0.098266</td>\n",
       "      <td>0.197248</td>\n",
       "      <td>0.071865</td>\n",
       "      <td>0.030400</td>\n",
       "      <td>0.020276</td>\n",
       "      <td>0.321029</td>\n",
       "    </tr>\n",
       "    <tr>\n",
       "      <th>std</th>\n",
       "      <td>23.084485</td>\n",
       "      <td>0.297676</td>\n",
       "      <td>0.397923</td>\n",
       "      <td>0.258266</td>\n",
       "      <td>0.171686</td>\n",
       "      <td>0.140943</td>\n",
       "      <td>0.466874</td>\n",
       "    </tr>\n",
       "    <tr>\n",
       "      <th>min</th>\n",
       "      <td>0.500000</td>\n",
       "      <td>0.000000</td>\n",
       "      <td>0.000000</td>\n",
       "      <td>0.000000</td>\n",
       "      <td>0.000000</td>\n",
       "      <td>0.000000</td>\n",
       "      <td>0.000000</td>\n",
       "    </tr>\n",
       "    <tr>\n",
       "      <th>25%</th>\n",
       "      <td>18.000000</td>\n",
       "      <td>0.000000</td>\n",
       "      <td>0.000000</td>\n",
       "      <td>0.000000</td>\n",
       "      <td>0.000000</td>\n",
       "      <td>0.000000</td>\n",
       "      <td>0.000000</td>\n",
       "    </tr>\n",
       "    <tr>\n",
       "      <th>50%</th>\n",
       "      <td>37.000000</td>\n",
       "      <td>0.000000</td>\n",
       "      <td>0.000000</td>\n",
       "      <td>0.000000</td>\n",
       "      <td>0.000000</td>\n",
       "      <td>0.000000</td>\n",
       "      <td>0.000000</td>\n",
       "    </tr>\n",
       "    <tr>\n",
       "      <th>75%</th>\n",
       "      <td>55.000000</td>\n",
       "      <td>0.000000</td>\n",
       "      <td>0.000000</td>\n",
       "      <td>0.000000</td>\n",
       "      <td>0.000000</td>\n",
       "      <td>0.000000</td>\n",
       "      <td>1.000000</td>\n",
       "    </tr>\n",
       "    <tr>\n",
       "      <th>max</th>\n",
       "      <td>115.000000</td>\n",
       "      <td>1.000000</td>\n",
       "      <td>1.000000</td>\n",
       "      <td>1.000000</td>\n",
       "      <td>1.000000</td>\n",
       "      <td>1.000000</td>\n",
       "      <td>1.000000</td>\n",
       "    </tr>\n",
       "  </tbody>\n",
       "</table>\n",
       "</div>"
      ],
      "text/plain": [
       "                 Age    Scholarship   Hipertension       Diabetes  \\\n",
       "count  110526.000000  110526.000000  110526.000000  110526.000000   \n",
       "mean       37.105229       0.098266       0.197248       0.071865   \n",
       "std        23.084485       0.297676       0.397923       0.258266   \n",
       "min         0.500000       0.000000       0.000000       0.000000   \n",
       "25%        18.000000       0.000000       0.000000       0.000000   \n",
       "50%        37.000000       0.000000       0.000000       0.000000   \n",
       "75%        55.000000       0.000000       0.000000       0.000000   \n",
       "max       115.000000       1.000000       1.000000       1.000000   \n",
       "\n",
       "          Alcoholism        Handcap    SMSreceived  \n",
       "count  110526.000000  110526.000000  110526.000000  \n",
       "mean        0.030400       0.020276       0.321029  \n",
       "std         0.171686       0.140943       0.466874  \n",
       "min         0.000000       0.000000       0.000000  \n",
       "25%         0.000000       0.000000       0.000000  \n",
       "50%         0.000000       0.000000       0.000000  \n",
       "75%         0.000000       0.000000       1.000000  \n",
       "max         1.000000       1.000000       1.000000  "
      ]
     },
     "execution_count": 25,
     "metadata": {},
     "output_type": "execute_result"
    }
   ],
   "source": [
    "# show a describtive statistics for the variables after cleaning the data\n",
    "df.describe()"
   ]
  },
  {
   "cell_type": "code",
   "execution_count": 26,
   "metadata": {},
   "outputs": [
    {
     "data": {
      "image/png": "[encoded data removed]",
      "text/plain": [
       "<Figure size 720x576 with 9 Axes>"
      ]
     },
     "metadata": {
      "needs_background": "light"
     },
     "output_type": "display_data"
    }
   ],
   "source": [
    "# create a histogram displaying the variables after data cleaning\n",
    "df.hist(figsize=(10,8));"
   ]
  },
  {
   "cell_type": "markdown",
   "metadata": {},
   "source": [
    "<a id='eda'></a>\n",
    "## Exploratory Data Analysis\n",
    "\n",
    "> Now the data is trimmed and cleaned, it is ready to move on to exploration. The data analysis process encompasses exploration of co-relation of each of the following variables with patients Not show conditions:\n",
    "**_Gender, Scheduled day compared to appointmnet day, Age, Scholarship, Hypertension, Diabeties, Handcap and SMSreceived_**"
   ]
  },
  {
   "cell_type": "markdown",
   "metadata": {},
   "source": [
    "**_Exploring the co-relation between each variable mentioned will be checked in two ways. First, check the impact of each variable considering ONLY NO Showup patients (in This case: the dataframe will be masked or filtered with the data of the patients who did not show up by creating new dataframe df1). Second, proportion between show and Not show for all the variable has been untilized._**"
   ]
  },
  {
   "cell_type": "code",
   "execution_count": 38,
   "metadata": {
    "scrolled": true
   },
   "outputs": [
    {
     "data": {
      "text/html": [
       "<div>\n",
       "<style scoped>\n",
       "    .dataframe tbody tr th:only-of-type {\n",
       "        vertical-align: middle;\n",
       "    }\n",
       "\n",
       "    .dataframe tbody tr th {\n",
       "        vertical-align: top;\n",
       "    }\n",
       "\n",
       "    .dataframe thead th {\n",
       "        text-align: right;\n",
       "    }\n",
       "</style>\n",
       "<table border=\"1\" class=\"dataframe\">\n",
       "  <thead>\n",
       "    <tr style=\"text-align: right;\">\n",
       "      <th></th>\n",
       "      <th>Gender</th>\n",
       "      <th>ScheduledDay</th>\n",
       "      <th>AppointmentDay</th>\n",
       "      <th>Age</th>\n",
       "      <th>Scholarship</th>\n",
       "      <th>Hipertension</th>\n",
       "      <th>Diabetes</th>\n",
       "      <th>Alcoholism</th>\n",
       "      <th>Handcap</th>\n",
       "      <th>SMSreceived</th>\n",
       "      <th>Noshow</th>\n",
       "    </tr>\n",
       "  </thead>\n",
       "  <tbody>\n",
       "    <tr>\n",
       "      <th>6</th>\n",
       "      <td>F</td>\n",
       "      <td>2016-04-27T15:05:12Z</td>\n",
       "      <td>2016-04-29T00:00:00Z</td>\n",
       "      <td>23.0</td>\n",
       "      <td>0</td>\n",
       "      <td>0</td>\n",
       "      <td>0</td>\n",
       "      <td>0</td>\n",
       "      <td>0</td>\n",
       "      <td>0</td>\n",
       "      <td>Yes</td>\n",
       "    </tr>\n",
       "    <tr>\n",
       "      <th>7</th>\n",
       "      <td>F</td>\n",
       "      <td>2016-04-27T15:39:58Z</td>\n",
       "      <td>2016-04-29T00:00:00Z</td>\n",
       "      <td>39.0</td>\n",
       "      <td>0</td>\n",
       "      <td>0</td>\n",
       "      <td>0</td>\n",
       "      <td>0</td>\n",
       "      <td>0</td>\n",
       "      <td>0</td>\n",
       "      <td>Yes</td>\n",
       "    </tr>\n",
       "    <tr>\n",
       "      <th>11</th>\n",
       "      <td>M</td>\n",
       "      <td>2016-04-26T08:44:12Z</td>\n",
       "      <td>2016-04-29T00:00:00Z</td>\n",
       "      <td>29.0</td>\n",
       "      <td>0</td>\n",
       "      <td>0</td>\n",
       "      <td>0</td>\n",
       "      <td>0</td>\n",
       "      <td>0</td>\n",
       "      <td>1</td>\n",
       "      <td>Yes</td>\n",
       "    </tr>\n",
       "    <tr>\n",
       "      <th>17</th>\n",
       "      <td>F</td>\n",
       "      <td>2016-04-28T09:28:57Z</td>\n",
       "      <td>2016-04-29T00:00:00Z</td>\n",
       "      <td>40.0</td>\n",
       "      <td>1</td>\n",
       "      <td>0</td>\n",
       "      <td>0</td>\n",
       "      <td>0</td>\n",
       "      <td>0</td>\n",
       "      <td>0</td>\n",
       "      <td>Yes</td>\n",
       "    </tr>\n",
       "    <tr>\n",
       "      <th>20</th>\n",
       "      <td>F</td>\n",
       "      <td>2016-04-27T07:51:14Z</td>\n",
       "      <td>2016-04-29T00:00:00Z</td>\n",
       "      <td>30.0</td>\n",
       "      <td>0</td>\n",
       "      <td>0</td>\n",
       "      <td>0</td>\n",
       "      <td>0</td>\n",
       "      <td>0</td>\n",
       "      <td>0</td>\n",
       "      <td>Yes</td>\n",
       "    </tr>\n",
       "    <tr>\n",
       "      <th>...</th>\n",
       "      <td>...</td>\n",
       "      <td>...</td>\n",
       "      <td>...</td>\n",
       "      <td>...</td>\n",
       "      <td>...</td>\n",
       "      <td>...</td>\n",
       "      <td>...</td>\n",
       "      <td>...</td>\n",
       "      <td>...</td>\n",
       "      <td>...</td>\n",
       "      <td>...</td>\n",
       "    </tr>\n",
       "    <tr>\n",
       "      <th>110484</th>\n",
       "      <td>F</td>\n",
       "      <td>2016-06-03T14:43:56Z</td>\n",
       "      <td>2016-06-07T00:00:00Z</td>\n",
       "      <td>45.0</td>\n",
       "      <td>0</td>\n",
       "      <td>0</td>\n",
       "      <td>0</td>\n",
       "      <td>0</td>\n",
       "      <td>0</td>\n",
       "      <td>0</td>\n",
       "      <td>Yes</td>\n",
       "    </tr>\n",
       "    <tr>\n",
       "      <th>110492</th>\n",
       "      <td>M</td>\n",
       "      <td>2016-06-08T08:50:19Z</td>\n",
       "      <td>2016-06-08T00:00:00Z</td>\n",
       "      <td>33.0</td>\n",
       "      <td>0</td>\n",
       "      <td>1</td>\n",
       "      <td>0</td>\n",
       "      <td>0</td>\n",
       "      <td>0</td>\n",
       "      <td>0</td>\n",
       "      <td>Yes</td>\n",
       "    </tr>\n",
       "    <tr>\n",
       "      <th>110496</th>\n",
       "      <td>F</td>\n",
       "      <td>2016-06-06T17:35:38Z</td>\n",
       "      <td>2016-06-08T00:00:00Z</td>\n",
       "      <td>37.0</td>\n",
       "      <td>0</td>\n",
       "      <td>1</td>\n",
       "      <td>0</td>\n",
       "      <td>0</td>\n",
       "      <td>0</td>\n",
       "      <td>0</td>\n",
       "      <td>Yes</td>\n",
       "    </tr>\n",
       "    <tr>\n",
       "      <th>110515</th>\n",
       "      <td>M</td>\n",
       "      <td>2016-06-06T15:58:05Z</td>\n",
       "      <td>2016-06-08T00:00:00Z</td>\n",
       "      <td>33.0</td>\n",
       "      <td>0</td>\n",
       "      <td>1</td>\n",
       "      <td>0</td>\n",
       "      <td>0</td>\n",
       "      <td>0</td>\n",
       "      <td>0</td>\n",
       "      <td>Yes</td>\n",
       "    </tr>\n",
       "    <tr>\n",
       "      <th>110516</th>\n",
       "      <td>F</td>\n",
       "      <td>2016-06-07T07:45:16Z</td>\n",
       "      <td>2016-06-08T00:00:00Z</td>\n",
       "      <td>37.0</td>\n",
       "      <td>0</td>\n",
       "      <td>0</td>\n",
       "      <td>0</td>\n",
       "      <td>0</td>\n",
       "      <td>0</td>\n",
       "      <td>0</td>\n",
       "      <td>Yes</td>\n",
       "    </tr>\n",
       "  </tbody>\n",
       "</table>\n",
       "<p>22319 rows × 11 columns</p>\n",
       "</div>"
      ],
      "text/plain": [
       "       Gender          ScheduledDay        AppointmentDay   Age  Scholarship  \\\n",
       "6           F  2016-04-27T15:05:12Z  2016-04-29T00:00:00Z  23.0            0   \n",
       "7           F  2016-04-27T15:39:58Z  2016-04-29T00:00:00Z  39.0            0   \n",
       "11          M  2016-04-26T08:44:12Z  2016-04-29T00:00:00Z  29.0            0   \n",
       "17          F  2016-04-28T09:28:57Z  2016-04-29T00:00:00Z  40.0            1   \n",
       "20          F  2016-04-27T07:51:14Z  2016-04-29T00:00:00Z  30.0            0   \n",
       "...       ...                   ...                   ...   ...          ...   \n",
       "110484      F  2016-06-03T14:43:56Z  2016-06-07T00:00:00Z  45.0            0   \n",
       "110492      M  2016-06-08T08:50:19Z  2016-06-08T00:00:00Z  33.0            0   \n",
       "110496      F  2016-06-06T17:35:38Z  2016-06-08T00:00:00Z  37.0            0   \n",
       "110515      M  2016-06-06T15:58:05Z  2016-06-08T00:00:00Z  33.0            0   \n",
       "110516      F  2016-06-07T07:45:16Z  2016-06-08T00:00:00Z  37.0            0   \n",
       "\n",
       "        Hipertension  Diabetes  Alcoholism  Handcap  SMSreceived Noshow  \n",
       "6                  0         0           0        0            0    Yes  \n",
       "7                  0         0           0        0            0    Yes  \n",
       "11                 0         0           0        0            1    Yes  \n",
       "17                 0         0           0        0            0    Yes  \n",
       "20                 0         0           0        0            0    Yes  \n",
       "...              ...       ...         ...      ...          ...    ...  \n",
       "110484             0         0           0        0            0    Yes  \n",
       "110492             1         0           0        0            0    Yes  \n",
       "110496             1         0           0        0            0    Yes  \n",
       "110515             1         0           0        0            0    Yes  \n",
       "110516             0         0           0        0            0    Yes  \n",
       "\n",
       "[22319 rows x 11 columns]"
      ]
     },
     "execution_count": 38,
     "metadata": {},
     "output_type": "execute_result"
    }
   ],
   "source": [
    "# create dataframe df1 with the patients who did not show up in the appointment\n",
    "df1 = df[df['Noshow'] == 'Yes']\n",
    "df1"
   ]
  },
  {
   "cell_type": "code",
   "execution_count": 39,
   "metadata": {
    "scrolled": true
   },
   "outputs": [
    {
     "data": {
      "text/html": [
       "<div>\n",
       "<style scoped>\n",
       "    .dataframe tbody tr th:only-of-type {\n",
       "        vertical-align: middle;\n",
       "    }\n",
       "\n",
       "    .dataframe tbody tr th {\n",
       "        vertical-align: top;\n",
       "    }\n",
       "\n",
       "    .dataframe thead th {\n",
       "        text-align: right;\n",
       "    }\n",
       "</style>\n",
       "<table border=\"1\" class=\"dataframe\">\n",
       "  <thead>\n",
       "    <tr style=\"text-align: right;\">\n",
       "      <th></th>\n",
       "      <th>Age</th>\n",
       "      <th>Scholarship</th>\n",
       "      <th>Hipertension</th>\n",
       "      <th>Diabetes</th>\n",
       "      <th>Alcoholism</th>\n",
       "      <th>Handcap</th>\n",
       "      <th>SMSreceived</th>\n",
       "    </tr>\n",
       "  </thead>\n",
       "  <tbody>\n",
       "    <tr>\n",
       "      <th>count</th>\n",
       "      <td>22319.000000</td>\n",
       "      <td>22319.000000</td>\n",
       "      <td>22319.000000</td>\n",
       "      <td>22319.000000</td>\n",
       "      <td>22319.000000</td>\n",
       "      <td>22319.000000</td>\n",
       "      <td>22319.000000</td>\n",
       "    </tr>\n",
       "    <tr>\n",
       "      <th>mean</th>\n",
       "      <td>34.331982</td>\n",
       "      <td>0.115507</td>\n",
       "      <td>0.169004</td>\n",
       "      <td>0.064071</td>\n",
       "      <td>0.030333</td>\n",
       "      <td>0.018236</td>\n",
       "      <td>0.438371</td>\n",
       "    </tr>\n",
       "    <tr>\n",
       "      <th>std</th>\n",
       "      <td>21.943722</td>\n",
       "      <td>0.319640</td>\n",
       "      <td>0.374764</td>\n",
       "      <td>0.244885</td>\n",
       "      <td>0.171505</td>\n",
       "      <td>0.133805</td>\n",
       "      <td>0.496198</td>\n",
       "    </tr>\n",
       "    <tr>\n",
       "      <th>min</th>\n",
       "      <td>0.500000</td>\n",
       "      <td>0.000000</td>\n",
       "      <td>0.000000</td>\n",
       "      <td>0.000000</td>\n",
       "      <td>0.000000</td>\n",
       "      <td>0.000000</td>\n",
       "      <td>0.000000</td>\n",
       "    </tr>\n",
       "    <tr>\n",
       "      <th>25%</th>\n",
       "      <td>16.000000</td>\n",
       "      <td>0.000000</td>\n",
       "      <td>0.000000</td>\n",
       "      <td>0.000000</td>\n",
       "      <td>0.000000</td>\n",
       "      <td>0.000000</td>\n",
       "      <td>0.000000</td>\n",
       "    </tr>\n",
       "    <tr>\n",
       "      <th>50%</th>\n",
       "      <td>33.000000</td>\n",
       "      <td>0.000000</td>\n",
       "      <td>0.000000</td>\n",
       "      <td>0.000000</td>\n",
       "      <td>0.000000</td>\n",
       "      <td>0.000000</td>\n",
       "      <td>0.000000</td>\n",
       "    </tr>\n",
       "    <tr>\n",
       "      <th>75%</th>\n",
       "      <td>51.000000</td>\n",
       "      <td>0.000000</td>\n",
       "      <td>0.000000</td>\n",
       "      <td>0.000000</td>\n",
       "      <td>0.000000</td>\n",
       "      <td>0.000000</td>\n",
       "      <td>1.000000</td>\n",
       "    </tr>\n",
       "    <tr>\n",
       "      <th>max</th>\n",
       "      <td>115.000000</td>\n",
       "      <td>1.000000</td>\n",
       "      <td>1.000000</td>\n",
       "      <td>1.000000</td>\n",
       "      <td>1.000000</td>\n",
       "      <td>1.000000</td>\n",
       "      <td>1.000000</td>\n",
       "    </tr>\n",
       "  </tbody>\n",
       "</table>\n",
       "</div>"
      ],
      "text/plain": [
       "                Age   Scholarship  Hipertension      Diabetes    Alcoholism  \\\n",
       "count  22319.000000  22319.000000  22319.000000  22319.000000  22319.000000   \n",
       "mean      34.331982      0.115507      0.169004      0.064071      0.030333   \n",
       "std       21.943722      0.319640      0.374764      0.244885      0.171505   \n",
       "min        0.500000      0.000000      0.000000      0.000000      0.000000   \n",
       "25%       16.000000      0.000000      0.000000      0.000000      0.000000   \n",
       "50%       33.000000      0.000000      0.000000      0.000000      0.000000   \n",
       "75%       51.000000      0.000000      0.000000      0.000000      0.000000   \n",
       "max      115.000000      1.000000      1.000000      1.000000      1.000000   \n",
       "\n",
       "            Handcap   SMSreceived  \n",
       "count  22319.000000  22319.000000  \n",
       "mean       0.018236      0.438371  \n",
       "std        0.133805      0.496198  \n",
       "min        0.000000      0.000000  \n",
       "25%        0.000000      0.000000  \n",
       "50%        0.000000      0.000000  \n",
       "75%        0.000000      1.000000  \n",
       "max        1.000000      1.000000  "
      ]
     },
     "execution_count": 39,
     "metadata": {},
     "output_type": "execute_result"
    }
   ],
   "source": [
    "# display a decsribtive statistics for df1\n",
    "df1.describe()"
   ]
  },
  {
   "cell_type": "code",
   "execution_count": 40,
   "metadata": {
    "scrolled": false
   },
   "outputs": [
    {
     "data": {
      "image/png": "[encoded data removed]",
      "text/plain": [
       "<Figure size 720x576 with 9 Axes>"
      ]
     },
     "metadata": {
      "needs_background": "light"
     },
     "output_type": "display_data"
    }
   ],
   "source": [
    "# create a histogram plot for all the variables\n",
    "df1.hist(figsize=(10,8));"
   ]
  },
  {
   "cell_type": "markdown",
   "metadata": {},
   "source": [
    "###  Q1. Does Scholarship has co-relation with No show of the patients?"
   ]
  },
  {
   "cell_type": "code",
   "execution_count": 41,
   "metadata": {
    "scrolled": true
   },
   "outputs": [
    {
     "data": {
      "text/plain": [
       "0    19741\n",
       "1     2578\n",
       "Name: Scholarship, dtype: int64"
      ]
     },
     "execution_count": 41,
     "metadata": {},
     "output_type": "execute_result"
    }
   ],
   "source": [
    "# check the counts of No Showup patients in accord to scholarship condition\n",
    "df1.Scholarship.value_counts()"
   ]
  },
  {
   "cell_type": "code",
   "execution_count": 42,
   "metadata": {},
   "outputs": [
    {
     "data": {
      "text/plain": [
       "0.8844930328419732"
      ]
     },
     "execution_count": 42,
     "metadata": {},
     "output_type": "execute_result"
    }
   ],
   "source": [
    "# calculate the percentage of pateint whos Do not have scholarship and did not show in the appointment\n",
    "No_scholarship = df1.Scholarship.value_counts()[0]/(df1.Scholarship.value_counts()[0]+df1.Scholarship.value_counts()[1])\n",
    "No_scholarship"
   ]
  },
  {
   "cell_type": "markdown",
   "metadata": {},
   "source": [
    "**_Note: It can be conculded that 88.4% of the pateints who did not show in the appointment Do NOt have a scholarship.\n",
    "This is considered a major factor of Not showing up of the patients._**"
   ]
  },
  {
   "cell_type": "markdown",
   "metadata": {},
   "source": [
    "#### Let's check the proportion between the patient who show up /did not show up with different scholarship condition"
   ]
  },
  {
   "cell_type": "code",
   "execution_count": 45,
   "metadata": {},
   "outputs": [
    {
     "data": {
      "text/plain": [
       "Scholarship  Noshow\n",
       "0            No        79924\n",
       "             Yes       19741\n",
       "1            No         8283\n",
       "             Yes        2578\n",
       "Name: Noshow, dtype: int64"
      ]
     },
     "execution_count": 45,
     "metadata": {},
     "output_type": "execute_result"
    }
   ],
   "source": [
    "# group the data with Scholarship conditions and No Show and showup condition.\n",
    "# Note : dataframe df is utilized as it contains the whole cleaned data without filtering or masking\n",
    "df.groupby('Scholarship')['Noshow'].value_counts()"
   ]
  },
  {
   "cell_type": "code",
   "execution_count": 64,
   "metadata": {},
   "outputs": [
    {
     "data": {
      "image/png": "[encoded data removed]",
      "text/plain": [
       "<Figure size 432x288 with 1 Axes>"
      ]
     },
     "metadata": {
      "needs_background": "light"
     },
     "output_type": "display_data"
    }
   ],
   "source": [
    "# create a histogram plot showing the number of patients who have/do not have scholarship with their show up conditions\n",
    "df.Scholarship[Noshow].hist(alpha=0.5, bins=10, color= 'black', label='NoShow')\n",
    "df.Scholarship[show].hist(alpha=0.5, bins=10, color='green', label= 'Show')\n",
    "plt.title('Number of patients vs scholarship with showup conditions')\n",
    "plt.xlabel('scholarship')\n",
    "plt.ylabel('Number of patients')\n",
    "plt.legend();"
   ]
  },
  {
   "cell_type": "code",
   "execution_count": 46,
   "metadata": {},
   "outputs": [
    {
     "data": {
      "text/plain": [
       "0.19807354638037425"
      ]
     },
     "execution_count": 46,
     "metadata": {},
     "output_type": "execute_result"
    }
   ],
   "source": [
    "# calculate the proportion of patients Who did NOT show up and who DID NOT have a scholarship\n",
    "Noscholarship_proportion = df.groupby('Scholarship')['Noshow'].value_counts()[0][1]/(df.groupby('Scholarship')['Noshow'].value_counts()[0][1]+df.groupby('Scholarship')['Noshow'].value_counts()[0][0])\n",
    "Noscholarship_proportion"
   ]
  },
  {
   "cell_type": "markdown",
   "metadata": {},
   "source": [
    "> Around 19.8% of patients who do not have a Scholarship, did NOT show up in the appointment"
   ]
  },
  {
   "cell_type": "code",
   "execution_count": 80,
   "metadata": {},
   "outputs": [
    {
     "data": {
      "text/plain": [
       "0.2373630420771568"
      ]
     },
     "execution_count": 80,
     "metadata": {},
     "output_type": "execute_result"
    }
   ],
   "source": [
    "# calculate the proportion of patients Who did NOT show up and who are having a scholarship\n",
    "scholarship_proportion = df.groupby('Scholarship')['Noshow'].value_counts()[1][1]/(df.groupby('Scholarship')['Noshow'].value_counts()[1][1]+df.groupby('Scholarship')['Noshow'].value_counts()[1][0])\n",
    "scholarship_proportion"
   ]
  },
  {
   "cell_type": "markdown",
   "metadata": {},
   "source": [
    "> Around 23.7% of patients who are having scholarship, did NOT show up in the appointment. \n",
    "**It can be concluded that if proportion is considered, scholarship will not have siginifacnt impact on patients No show condition**"
   ]
  },
  {
   "cell_type": "markdown",
   "metadata": {},
   "source": [
    "### **__It is obevious that scholarship is a major factor of not showing up of the patients as it represents 88.4% out of the total number of patients who did not showup in the appointment__**"
   ]
  },
  {
   "cell_type": "markdown",
   "metadata": {},
   "source": [
    "###  Q2. Does SMS variable has co-relation with No show of the patients?"
   ]
  },
  {
   "cell_type": "code",
   "execution_count": 47,
   "metadata": {
    "scrolled": false
   },
   "outputs": [
    {
     "data": {
      "text/plain": [
       "0    12535\n",
       "1     9784\n",
       "Name: SMSreceived, dtype: int64"
      ]
     },
     "execution_count": 47,
     "metadata": {},
     "output_type": "execute_result"
    }
   ],
   "source": [
    "# check the counts of No Showup patients in accord to SMSreceived condition\n",
    "df1.SMSreceived.value_counts()"
   ]
  },
  {
   "cell_type": "code",
   "execution_count": 48,
   "metadata": {},
   "outputs": [
    {
     "data": {
      "text/plain": [
       "0.5616291052466509"
      ]
     },
     "execution_count": 48,
     "metadata": {},
     "output_type": "execute_result"
    }
   ],
   "source": [
    "# calculate the percentage of pateint whos Do not have scholarship and did not show in the appointment\n",
    "No_SMSreceived = df1.SMSreceived.value_counts()[0]/(df1.SMSreceived.value_counts()[0]+df1.SMSreceived.value_counts()[1])\n",
    "No_SMSreceived"
   ]
  },
  {
   "cell_type": "markdown",
   "metadata": {},
   "source": [
    "**_Note: It can be concluded that 56.16% of the pateints who did not show in the appointment Did not receive an SMS.\n",
    "This is considered a additional strong factor of Not showing up of the patients._**"
   ]
  },
  {
   "cell_type": "markdown",
   "metadata": {},
   "source": [
    "#### Let's check the proportion between the patient who show up /did not show up with different SMS received condition"
   ]
  },
  {
   "cell_type": "code",
   "execution_count": 49,
   "metadata": {},
   "outputs": [
    {
     "data": {
      "text/plain": [
       "SMSreceived  Noshow\n",
       "0            No        62509\n",
       "             Yes       12535\n",
       "1            No        25698\n",
       "             Yes        9784\n",
       "Name: Noshow, dtype: int64"
      ]
     },
     "execution_count": 49,
     "metadata": {},
     "output_type": "execute_result"
    }
   ],
   "source": [
    "#group the data with SMS received and No Show condition.\n",
    "# Note : dataframe df is utilized as it contains the whole cleaned data without filtering or masking\n",
    "df.groupby('SMSreceived')['Noshow'].value_counts()"
   ]
  },
  {
   "cell_type": "code",
   "execution_count": 50,
   "metadata": {},
   "outputs": [
    {
     "data": {
      "image/png": "[encoded data removed]",
      "text/plain": [
       "<Figure size 432x288 with 1 Axes>"
      ]
     },
     "metadata": {
      "needs_background": "light"
     },
     "output_type": "display_data"
    }
   ],
   "source": [
    "# create a histogram plot showing the number of patients who received and not received SMS with their show up conditions\n",
    "df.SMSreceived[Noshow].hist(alpha=0.5, bins=30, color= 'red', label='NoShow')\n",
    "df.SMSreceived[show].hist(alpha=0.5, bins=30, color= 'blue', label='Show')\n",
    "plt.title('Number of patients vs SMS received with showup conditions')\n",
    "plt.xlabel('SMS received')\n",
    "plt.ylabel('Number of patients')\n",
    "plt.legend();"
   ]
  },
  {
   "cell_type": "code",
   "execution_count": 51,
   "metadata": {},
   "outputs": [
    {
     "data": {
      "text/plain": [
       "0.16703533926762965"
      ]
     },
     "execution_count": 51,
     "metadata": {},
     "output_type": "execute_result"
    }
   ],
   "source": [
    "# calculate the proportion of patients Who did NOT show up and who DID NOT recieve an SMS\n",
    "NoSMS_proportion = df.groupby('SMSreceived')['Noshow'].value_counts()[0][1]/(df.groupby('SMSreceived')['Noshow'].value_counts()[0][0]+df.groupby('SMSreceived')['Noshow'].value_counts()[0][1])\n",
    "NoSMS_proportion"
   ]
  },
  {
   "cell_type": "markdown",
   "metadata": {},
   "source": [
    "> Around 16.7% of patients who did not recieve an SMS, did NOT show up in the appointment"
   ]
  },
  {
   "cell_type": "code",
   "execution_count": 52,
   "metadata": {},
   "outputs": [
    {
     "data": {
      "text/plain": [
       "0.27574544839637"
      ]
     },
     "execution_count": 52,
     "metadata": {},
     "output_type": "execute_result"
    }
   ],
   "source": [
    "# calculate the proportion of patients Who did NOT show up and who DID NOT recieve an SMS\n",
    "SMS_proportion = df.groupby('SMSreceived')['Noshow'].value_counts()[1][1]/(df.groupby('SMSreceived')['Noshow'].value_counts()[1][0]+df.groupby('SMSreceived')['Noshow'].value_counts()[1][1])\n",
    "SMS_proportion"
   ]
  },
  {
   "cell_type": "markdown",
   "metadata": {},
   "source": [
    "> Around 27.5% of patients who received an SMS, did NOT show up in the appointment. **It can be concluded that if proportion is considered, SMS variable will not have an impact on number of patients who did not show up.**"
   ]
  },
  {
   "cell_type": "markdown",
   "metadata": {},
   "source": [
    "### **__It is obevious that Not receiving an SMS is additional major factor of not showing up of the patients as it represents 56.1% out of the total number of patients who did not showup in the appointment__**"
   ]
  },
  {
   "cell_type": "markdown",
   "metadata": {},
   "source": [
    "### Q3. Does SMS and Scholarship variables have an impact on Not show of the patients?"
   ]
  },
  {
   "cell_type": "code",
   "execution_count": 178,
   "metadata": {
    "scrolled": true
   },
   "outputs": [
    {
     "data": {
      "text/plain": [
       "Scholarship  SMSreceived\n",
       "0            0              11141\n",
       "             1               8600\n",
       "1            0               1394\n",
       "             1               1184\n",
       "Name: SMSreceived, dtype: int64"
      ]
     },
     "execution_count": 178,
     "metadata": {},
     "output_type": "execute_result"
    }
   ],
   "source": [
    "# group the data by scholarship and SMS received\n",
    "df1.groupby('Scholarship')['SMSreceived'].value_counts()"
   ]
  },
  {
   "cell_type": "code",
   "execution_count": 179,
   "metadata": {},
   "outputs": [
    {
     "data": {
      "text/plain": [
       "0.49917110981674806"
      ]
     },
     "execution_count": 179,
     "metadata": {},
     "output_type": "execute_result"
    }
   ],
   "source": [
    "#calculate the percentage of patients who didnot receive SMS and do not have a scholarship\n",
    "df1.groupby('Scholarship')['SMSreceived'].value_counts()[0][0]/df1.shape[0]"
   ]
  },
  {
   "cell_type": "markdown",
   "metadata": {},
   "source": [
    "### **_it can be concluded that almost 50% of the patients who did not receive an SMS and do not have scholarship , did not show up in the appointment._**"
   ]
  },
  {
   "cell_type": "markdown",
   "metadata": {},
   "source": [
    "### Q4. Does Hipertension variable has an impact on Not show of the patients?"
   ]
  },
  {
   "cell_type": "code",
   "execution_count": 53,
   "metadata": {
    "scrolled": true
   },
   "outputs": [
    {
     "data": {
      "text/plain": [
       "0    18547\n",
       "1     3772\n",
       "Name: Hipertension, dtype: int64"
      ]
     },
     "execution_count": 53,
     "metadata": {},
     "output_type": "execute_result"
    }
   ],
   "source": [
    "# check the counts of No Showup patients who has Hipertension\n",
    "df1.Hipertension.value_counts()"
   ]
  },
  {
   "cell_type": "code",
   "execution_count": 54,
   "metadata": {},
   "outputs": [
    {
     "data": {
      "text/plain": [
       "0.16900398763385457"
      ]
     },
     "execution_count": 54,
     "metadata": {},
     "output_type": "execute_result"
    }
   ],
   "source": [
    "# calculate the percentage of pateint whos Do not have Hipertension and did not show in the appointment\n",
    "Hipertension = df1.Hipertension.value_counts()[1]/(df1.Hipertension.value_counts()[0]+df1.Hipertension.value_counts()[1])\n",
    "Hipertension"
   ]
  },
  {
   "cell_type": "markdown",
   "metadata": {},
   "source": [
    "**_Note: Around 17% of the pateints who did not show in the appointment suffers from hipertension.\n",
    "Hipertension is a moderate factor of Not showing up of the patients._**"
   ]
  },
  {
   "cell_type": "markdown",
   "metadata": {},
   "source": [
    "#### Let's check the proportion between the patient who show up /did not show up with different Hipertension condition"
   ]
  },
  {
   "cell_type": "code",
   "execution_count": 59,
   "metadata": {},
   "outputs": [
    {
     "data": {
      "text/plain": [
       "Hipertension  Noshow\n",
       "0             No        70178\n",
       "              Yes       18547\n",
       "1             No        18029\n",
       "              Yes        3772\n",
       "Name: Noshow, dtype: int64"
      ]
     },
     "execution_count": 59,
     "metadata": {},
     "output_type": "execute_result"
    }
   ],
   "source": [
    "# group the data with Hipertension conditions and No Show condition.\n",
    "df.groupby('Hipertension')['Noshow'].value_counts()"
   ]
  },
  {
   "cell_type": "code",
   "execution_count": 60,
   "metadata": {},
   "outputs": [
    {
     "data": {
      "image/png": "[encoded data removed]",
      "text/plain": [
       "<Figure size 432x288 with 1 Axes>"
      ]
     },
     "metadata": {
      "needs_background": "light"
     },
     "output_type": "display_data"
    }
   ],
   "source": [
    "# create a histogram plot showing the number of patients who have/do not have Hipertension with their show up conditions\n",
    "df.Hipertension[Noshow].hist(alpha=0.5, bins=10, color= 'black', label='NoShow')\n",
    "df.Hipertension[show].hist(alpha=0.5, bins=10, color='green', label= 'Show')\n",
    "plt.title('Number of patients vs Hipertension with showup conditions')\n",
    "plt.xlabel('Hipertension')\n",
    "plt.ylabel('Number of patients')\n",
    "plt.legend();"
   ]
  },
  {
   "cell_type": "code",
   "execution_count": 61,
   "metadata": {},
   "outputs": [
    {
     "data": {
      "text/plain": [
       "0.2090391659622429"
      ]
     },
     "execution_count": 61,
     "metadata": {},
     "output_type": "execute_result"
    }
   ],
   "source": [
    "# calculate the proportion of patients Who did NOT show up and who DID NOT have a Hipertension\n",
    "NoHipertension_proportion = df.groupby('Hipertension')['Noshow'].value_counts()[0][1]/(df.groupby('Hipertension')['Noshow'].value_counts()[0][1]+df.groupby('Hipertension')['Noshow'].value_counts()[0][0])\n",
    "NoHipertension_proportion"
   ]
  },
  {
   "cell_type": "markdown",
   "metadata": {},
   "source": [
    "> Around 21% of patients who do not have a Hipertension, did NOT show up in the appointment"
   ]
  },
  {
   "cell_type": "code",
   "execution_count": 62,
   "metadata": {},
   "outputs": [
    {
     "data": {
      "text/plain": [
       "0.17301958625751113"
      ]
     },
     "execution_count": 62,
     "metadata": {},
     "output_type": "execute_result"
    }
   ],
   "source": [
    "# calculate the proportion of patients Who did NOT show up and who are having a Hipertension\n",
    "Hipertension_proportion = df.groupby('Hipertension')['Noshow'].value_counts()[1][1]/(df.groupby('Hipertension')['Noshow'].value_counts()[1][1]+df.groupby('Hipertension')['Noshow'].value_counts()[1][0])\n",
    "Hipertension_proportion"
   ]
  },
  {
   "cell_type": "markdown",
   "metadata": {},
   "source": [
    "> Around 17.3% of patients who are having Hipertension, did NOT show up in the appointment. **It can be concluded that if proportion is considered, Hypertension variable have no impact on number of patients who did not show up.**"
   ]
  },
  {
   "cell_type": "markdown",
   "metadata": {},
   "source": [
    "### **_Hipertension has a moderate impact of patients who did not show up in the appointment as it represents 17% out of all the patients who did not show up in the appointment._**"
   ]
  },
  {
   "cell_type": "markdown",
   "metadata": {},
   "source": [
    "### Q5. Does Diabetes variable has an impact on Not show of the patients?"
   ]
  },
  {
   "cell_type": "code",
   "execution_count": 63,
   "metadata": {
    "scrolled": true
   },
   "outputs": [
    {
     "data": {
      "text/plain": [
       "0    20889\n",
       "1     1430\n",
       "Name: Diabetes, dtype: int64"
      ]
     },
     "execution_count": 63,
     "metadata": {},
     "output_type": "execute_result"
    }
   ],
   "source": [
    "# check the counts of No Showup patients who has Diabetes\n",
    "df1.Diabetes.value_counts()"
   ]
  },
  {
   "cell_type": "code",
   "execution_count": 64,
   "metadata": {},
   "outputs": [
    {
     "data": {
      "text/plain": [
       "0.06407097092163627"
      ]
     },
     "execution_count": 64,
     "metadata": {},
     "output_type": "execute_result"
    }
   ],
   "source": [
    "# calculate the percentage of pateint whos Do not have Diabetes and did not show in the appointment\n",
    "Diabetes = df1.Diabetes.value_counts()[1]/(df1.Diabetes.value_counts()[0]+df1.Diabetes.value_counts()[1])\n",
    "Diabetes"
   ]
  },
  {
   "cell_type": "markdown",
   "metadata": {},
   "source": [
    "**_Only 6.4% of the pateints who did not show in the appointment suffers from Diabetes.\n",
    "Diabetes is a minor factor of Not showing up of the patients._**"
   ]
  },
  {
   "cell_type": "markdown",
   "metadata": {},
   "source": [
    "#### Let's check the proportion between the patient who show up /did not show up with different Diabetes condition"
   ]
  },
  {
   "cell_type": "code",
   "execution_count": 65,
   "metadata": {
    "scrolled": true
   },
   "outputs": [
    {
     "data": {
      "text/plain": [
       "Diabetes  Noshow\n",
       "0         No        81694\n",
       "          Yes       20889\n",
       "1         No         6513\n",
       "          Yes        1430\n",
       "Name: Noshow, dtype: int64"
      ]
     },
     "execution_count": 65,
     "metadata": {},
     "output_type": "execute_result"
    }
   ],
   "source": [
    "# group the data with Diabetes conditions and No Show condition.\n",
    "df.groupby('Diabetes')['Noshow'].value_counts()"
   ]
  },
  {
   "cell_type": "code",
   "execution_count": 66,
   "metadata": {},
   "outputs": [
    {
     "data": {
      "image/png": "[encoded data removed]",
      "text/plain": [
       "<Figure size 432x288 with 1 Axes>"
      ]
     },
     "metadata": {
      "needs_background": "light"
     },
     "output_type": "display_data"
    }
   ],
   "source": [
    "# create a histogram plot showing the number of patients who have/do not have Diabetes with their show up conditions\n",
    "df.Diabetes[Noshow].hist(alpha=0.5, bins=10, color= 'black', label='NoShow')\n",
    "df.Diabetes[show].hist(alpha=0.5, bins=10, color='green', label= 'Show')\n",
    "plt.title('Number of patients vs Diabetes with showup conditions')\n",
    "plt.xlabel('Diabetes')\n",
    "plt.ylabel('Number of patients')\n",
    "plt.legend();"
   ]
  },
  {
   "cell_type": "code",
   "execution_count": 67,
   "metadata": {},
   "outputs": [
    {
     "data": {
      "text/plain": [
       "0.20363023112991432"
      ]
     },
     "execution_count": 67,
     "metadata": {},
     "output_type": "execute_result"
    }
   ],
   "source": [
    "# calculate the proportion of patients Who did NOT show up and who DID NOT have a Diabetes\n",
    "NoDiabetes_proportion = df.groupby('Diabetes')['Noshow'].value_counts()[0][1]/(df.groupby('Diabetes')['Noshow'].value_counts()[0][1]+df.groupby('Diabetes')['Noshow'].value_counts()[0][0])\n",
    "NoDiabetes_proportion"
   ]
  },
  {
   "cell_type": "markdown",
   "metadata": {},
   "source": [
    "> Around 20% of patients who do not have a Diabetes, did NOT show up in the appointment"
   ]
  },
  {
   "cell_type": "code",
   "execution_count": 68,
   "metadata": {},
   "outputs": [
    {
     "data": {
      "text/plain": [
       "0.18003273322422259"
      ]
     },
     "execution_count": 68,
     "metadata": {},
     "output_type": "execute_result"
    }
   ],
   "source": [
    "# calculate the proportion of patients Who did NOT show up and who are having a Diabetes\n",
    "Diabetes_proportion = df.groupby('Diabetes')['Noshow'].value_counts()[1][1]/(df.groupby('Diabetes')['Noshow'].value_counts()[1][1]+df.groupby('Diabetes')['Noshow'].value_counts()[1][0])\n",
    "Diabetes_proportion"
   ]
  },
  {
   "cell_type": "markdown",
   "metadata": {},
   "source": [
    "> Around 18% of patients who are having Diabetes, did NOT show up in the appointment. **It can be concluded that if proportion is considered, Diabetes variable do not have an impact on number of patients who did not show up.**"
   ]
  },
  {
   "cell_type": "markdown",
   "metadata": {},
   "source": [
    "### **_Diabetes has a minor impact of patients who did not show up in the appointment as it represents 6.4% out of all the patients who did not show up in the appointment._**"
   ]
  },
  {
   "cell_type": "markdown",
   "metadata": {},
   "source": [
    "### Q6. Does Alcoholism variable has an impact on Not show of the patients?"
   ]
  },
  {
   "cell_type": "code",
   "execution_count": 69,
   "metadata": {
    "scrolled": true
   },
   "outputs": [
    {
     "data": {
      "text/plain": [
       "0    21642\n",
       "1      677\n",
       "Name: Alcoholism, dtype: int64"
      ]
     },
     "execution_count": 69,
     "metadata": {},
     "output_type": "execute_result"
    }
   ],
   "source": [
    "# check the counts of No Showup patients who has Alcoholism\n",
    "df1.Alcoholism.value_counts()"
   ]
  },
  {
   "cell_type": "code",
   "execution_count": 70,
   "metadata": {},
   "outputs": [
    {
     "data": {
      "text/plain": [
       "0.030332900219543886"
      ]
     },
     "execution_count": 70,
     "metadata": {},
     "output_type": "execute_result"
    }
   ],
   "source": [
    "# calculate the percentage of pateint whos Do not have Alcoholism and did not show in the appointment\n",
    "Alcoholism = df1.Alcoholism.value_counts()[1]/(df1.Alcoholism.value_counts()[0]+df1.Alcoholism.value_counts()[1])\n",
    "Alcoholism"
   ]
  },
  {
   "cell_type": "markdown",
   "metadata": {},
   "source": [
    "**_Only 3% of the pateints who did not show in the appointment suffers from Alcoholism.\n",
    "Alcoholism is a very minor factor of Not showing up of the patients._**"
   ]
  },
  {
   "cell_type": "markdown",
   "metadata": {},
   "source": [
    "#### Let's check the proportion between the patient who show up /did not show up with different Alcoholism condition"
   ]
  },
  {
   "cell_type": "code",
   "execution_count": 94,
   "metadata": {
    "scrolled": false
   },
   "outputs": [
    {
     "data": {
      "text/plain": [
       "Alcoholism  Noshow\n",
       "0           No        85524\n",
       "            Yes       21642\n",
       "1           No         2683\n",
       "            Yes         677\n",
       "Name: Noshow, dtype: int64"
      ]
     },
     "execution_count": 94,
     "metadata": {},
     "output_type": "execute_result"
    }
   ],
   "source": [
    "# groyp the data with Alcoholism conditions and No Show condition.\n",
    "df.groupby('Alcoholism')['Noshow'].value_counts()"
   ]
  },
  {
   "cell_type": "code",
   "execution_count": 95,
   "metadata": {},
   "outputs": [
    {
     "data": {
      "image/png": "[encoded data removed]",
      "text/plain": [
       "<Figure size 432x288 with 1 Axes>"
      ]
     },
     "metadata": {
      "needs_background": "light"
     },
     "output_type": "display_data"
    }
   ],
   "source": [
    "# create a histogram plot showing the number of patients who have/do not have Alcoholism with their show up conditions\n",
    "df.Alcoholism[Noshow].hist(alpha=0.5, bins=10, color= 'black', label='NoShow')\n",
    "df.Alcoholism[show].hist(alpha=0.5, bins=10, color='green', label= 'Show')\n",
    "plt.title('Number of patients vs Alcoholism with showup conditions')\n",
    "plt.xlabel('Alcoholism')\n",
    "plt.ylabel('Number of patients')\n",
    "plt.legend();"
   ]
  },
  {
   "cell_type": "code",
   "execution_count": 96,
   "metadata": {},
   "outputs": [
    {
     "data": {
      "text/plain": [
       "0.20194837915010358"
      ]
     },
     "execution_count": 96,
     "metadata": {},
     "output_type": "execute_result"
    }
   ],
   "source": [
    "# calculate the proportion of patients Who did NOT show up and who DID NOT have a Alcoholism\n",
    "NoAlcoholism_proportion = df.groupby('Alcoholism')['Noshow'].value_counts()[0][1]/(df.groupby('Alcoholism')['Noshow'].value_counts()[0][1]+df.groupby('Alcoholism')['Noshow'].value_counts()[0][0])\n",
    "NoAlcoholism_proportion"
   ]
  },
  {
   "cell_type": "markdown",
   "metadata": {},
   "source": [
    "> Around 20% of patients who do not have a Alcoholism, did NOT show up in the appointment"
   ]
  },
  {
   "cell_type": "code",
   "execution_count": 97,
   "metadata": {},
   "outputs": [
    {
     "data": {
      "text/plain": [
       "0.20148809523809524"
      ]
     },
     "execution_count": 97,
     "metadata": {},
     "output_type": "execute_result"
    }
   ],
   "source": [
    "# calculate the proportion of patients Who did NOT show up and who are having a Alcoholism\n",
    "Alcoholism_proportion = df.groupby('Alcoholism')['Noshow'].value_counts()[1][1]/(df.groupby('Alcoholism')['Noshow'].value_counts()[1][1]+df.groupby('Alcoholism')['Noshow'].value_counts()[1][0])\n",
    "Alcoholism_proportion"
   ]
  },
  {
   "cell_type": "markdown",
   "metadata": {},
   "source": [
    "> Around 20% of patients who are having Alcoholism, did NOT show up in the appointment. **It can be concluded that if proportion is considerd, Alcoholism variable do not have an impact on number of patients who did not show up.**"
   ]
  },
  {
   "cell_type": "markdown",
   "metadata": {},
   "source": [
    "### **Alcoholism has a very small impact impact of patients who did not show up in the appointment as it represents 3% only out of all the patients who did not show up in the appointment._**"
   ]
  },
  {
   "cell_type": "markdown",
   "metadata": {},
   "source": [
    "### Q7. Does Handcap variable has an impact on Not show of the patients?"
   ]
  },
  {
   "cell_type": "code",
   "execution_count": 71,
   "metadata": {
    "scrolled": true
   },
   "outputs": [
    {
     "data": {
      "text/plain": [
       "0    21912\n",
       "1      407\n",
       "Name: Handcap, dtype: int64"
      ]
     },
     "execution_count": 71,
     "metadata": {},
     "output_type": "execute_result"
    }
   ],
   "source": [
    "# check the counts of No Showup patients who has Handcap\n",
    "df1.Handcap.value_counts()"
   ]
  },
  {
   "cell_type": "code",
   "execution_count": 72,
   "metadata": {},
   "outputs": [
    {
     "data": {
      "text/plain": [
       "0.018235584031542632"
      ]
     },
     "execution_count": 72,
     "metadata": {},
     "output_type": "execute_result"
    }
   ],
   "source": [
    "# calculate the percentage of pateint whos Do not have Handcap and did not show in the appointment\n",
    "Handcap = df1.Handcap.value_counts()[1]/(df1.Handcap.value_counts()[0]+df1.Handcap.value_counts()[1])\n",
    "Handcap"
   ]
  },
  {
   "cell_type": "markdown",
   "metadata": {},
   "source": [
    "**_Only 1.8% of the pateints who did not show in the appointment suffers from Handcap.\n",
    "Handcap is a very minor factor of Not showing up of the patients._**"
   ]
  },
  {
   "cell_type": "markdown",
   "metadata": {},
   "source": [
    "#### Let's check the proportion between the patient who show up /did not show up with different Handcap condition"
   ]
  },
  {
   "cell_type": "code",
   "execution_count": 73,
   "metadata": {},
   "outputs": [
    {
     "data": {
      "text/plain": [
       "Handcap  Noshow\n",
       "0        No        86373\n",
       "         Yes       21912\n",
       "1        No         1834\n",
       "         Yes         407\n",
       "Name: Noshow, dtype: int64"
      ]
     },
     "execution_count": 73,
     "metadata": {},
     "output_type": "execute_result"
    }
   ],
   "source": [
    "# groyp the data with Handcap conditions and No Show condition.\n",
    "df.groupby('Handcap')['Noshow'].value_counts()"
   ]
  },
  {
   "cell_type": "code",
   "execution_count": 74,
   "metadata": {},
   "outputs": [
    {
     "data": {
      "image/png": "[encoded data removed]",
      "text/plain": [
       "<Figure size 432x288 with 1 Axes>"
      ]
     },
     "metadata": {
      "needs_background": "light"
     },
     "output_type": "display_data"
    }
   ],
   "source": [
    "# create a histogram plot showing the number of patients who have/do not have Handcap with their show up conditions\n",
    "df.Handcap[Noshow].hist(alpha=0.5, bins=10, color= 'black', label='NoShow')\n",
    "df.Handcap[show].hist(alpha=0.5, bins=10, color='green', label= 'Show')\n",
    "plt.title('Number of patients vs Handcap with showup conditions')\n",
    "plt.xlabel('Handcap')\n",
    "plt.ylabel('Number of patients')\n",
    "plt.legend();"
   ]
  },
  {
   "cell_type": "code",
   "execution_count": 75,
   "metadata": {},
   "outputs": [
    {
     "data": {
      "text/plain": [
       "0.20235489680011082"
      ]
     },
     "execution_count": 75,
     "metadata": {},
     "output_type": "execute_result"
    }
   ],
   "source": [
    "# calculate the proportion of patients Who did NOT show up and who DID NOT have a Handcap\n",
    "NoHandcap_proportion = df.groupby('Handcap')['Noshow'].value_counts()[0][1]/(df.groupby('Handcap')['Noshow'].value_counts()[0][1]+df.groupby('Handcap')['Noshow'].value_counts()[0][0])\n",
    "NoHandcap_proportion"
   ]
  },
  {
   "cell_type": "markdown",
   "metadata": {},
   "source": [
    "> Around 20% of patients who do not have a Handcap, did NOT show up in the appointment"
   ]
  },
  {
   "cell_type": "code",
   "execution_count": 76,
   "metadata": {},
   "outputs": [
    {
     "data": {
      "text/plain": [
       "0.18161535029004908"
      ]
     },
     "execution_count": 76,
     "metadata": {},
     "output_type": "execute_result"
    }
   ],
   "source": [
    "# calculate the proportion of patients Who did NOT show up and who are having a Handcap\n",
    "Handcap_proportion = df.groupby('Handcap')['Noshow'].value_counts()[1][1]/(df.groupby('Handcap')['Noshow'].value_counts()[1][1]+df.groupby('Handcap')['Noshow'].value_counts()[1][0])\n",
    "Handcap_proportion"
   ]
  },
  {
   "cell_type": "markdown",
   "metadata": {},
   "source": [
    "> Around 18% of patients who are having Handcap, did NOT show up in the appointment. **It can be concluded that if proportion is considered, Handcap variable do not have an impact on number of patients who did not show up.**"
   ]
  },
  {
   "cell_type": "markdown",
   "metadata": {},
   "source": [
    "### **Handcap has a very small impact impact of patients who did not show up in the appointment as it represents 1.8% only out of all the patients who did not show up in the appointment._**"
   ]
  },
  {
   "cell_type": "markdown",
   "metadata": {},
   "source": [
    "### Q8. check Gender variable has an impact on Not show of the patients?"
   ]
  },
  {
   "cell_type": "code",
   "execution_count": 80,
   "metadata": {
    "scrolled": true
   },
   "outputs": [
    {
     "data": {
      "text/plain": [
       "F    14594\n",
       "M     7725\n",
       "Name: Gender, dtype: int64"
      ]
     },
     "execution_count": 80,
     "metadata": {},
     "output_type": "execute_result"
    }
   ],
   "source": [
    "# check the counts of No Showup patients with respect to gender\n",
    "df1.Gender.value_counts()"
   ]
  },
  {
   "cell_type": "code",
   "execution_count": 81,
   "metadata": {},
   "outputs": [
    {
     "data": {
      "text/plain": [
       "0.653882342398853"
      ]
     },
     "execution_count": 81,
     "metadata": {},
     "output_type": "execute_result"
    }
   ],
   "source": [
    "# calculate the percentage of Female patients and did not show in the appointment\n",
    "Female = df1.Gender.value_counts()[0]/(df1.Gender.value_counts()[0]+df1.Gender.value_counts()[1])\n",
    "Female"
   ]
  },
  {
   "cell_type": "code",
   "execution_count": 83,
   "metadata": {},
   "outputs": [
    {
     "data": {
      "text/plain": [
       "0.346117657601147"
      ]
     },
     "execution_count": 83,
     "metadata": {},
     "output_type": "execute_result"
    }
   ],
   "source": [
    "# calculate the percentage of Male patients and did not show in the appointment\n",
    "Male = df1.Gender.value_counts()[1]/(df1.Gender.value_counts()[0]+df1.Gender.value_counts()[1])\n",
    "Male"
   ]
  },
  {
   "cell_type": "markdown",
   "metadata": {},
   "source": [
    "**_It is clearly shown that More number of Females than males did not show up, the number of females are almost double the number of males. Females represent 65.3% of all the patients who did not show up in the appointment. Gender has an impact of not showing up of the patients._**"
   ]
  },
  {
   "cell_type": "markdown",
   "metadata": {},
   "source": [
    "#### Let's check the proportion between the patient who show up /did not show up with different Handcap condition"
   ]
  },
  {
   "cell_type": "code",
   "execution_count": 84,
   "metadata": {},
   "outputs": [
    {
     "data": {
      "text/plain": [
       "F    71839\n",
       "M    38687\n",
       "Name: Gender, dtype: int64"
      ]
     },
     "execution_count": 84,
     "metadata": {},
     "output_type": "execute_result"
    }
   ],
   "source": [
    "# check the total number of Female and Males in the Dataframe.\n",
    "# Its obeviously shown that there are more Females than male\n",
    "df.Gender.value_counts()"
   ]
  },
  {
   "cell_type": "code",
   "execution_count": 85,
   "metadata": {},
   "outputs": [
    {
     "data": {
      "text/plain": [
       "Gender  Noshow\n",
       "F       No        57245\n",
       "        Yes       14594\n",
       "M       No        30962\n",
       "        Yes        7725\n",
       "Name: Noshow, dtype: int64"
      ]
     },
     "execution_count": 85,
     "metadata": {},
     "output_type": "execute_result"
    }
   ],
   "source": [
    "# Group the data by gender and patients show conditions\n",
    "# Note: No: means show up, Yes: means NO Show up\n",
    "df.groupby('Gender')['Noshow'].value_counts()"
   ]
  },
  {
   "cell_type": "code",
   "execution_count": 86,
   "metadata": {},
   "outputs": [
    {
     "data": {
      "image/png": "[encoded data removed]",
      "text/plain": [
       "<Figure size 432x288 with 1 Axes>"
      ]
     },
     "metadata": {
      "needs_background": "light"
     },
     "output_type": "display_data"
    }
   ],
   "source": [
    "# bar plot shows gender and patients show conditions\n",
    "# Note: No: means show up, Yes: means NO Show u\n",
    "df.groupby('Gender').Noshow.value_counts().plot(kind='bar', color='orange');\n",
    "plt.title('Number of each gender with showup / Noshowup condition')\n",
    "plt.xlabel('Gender with showup condition')\n",
    "plt.ylabel('Number of patients');"
   ]
  },
  {
   "cell_type": "markdown",
   "metadata": {},
   "source": [
    "> The above bar plot shows that almost the same proportion of Males and females with showup(NO) Versus No showup(yes).\n",
    "> Let's verify this by calculating the proportion of each gender. This is accomplished by dividing each gender at each showup condition by total number of genders."
   ]
  },
  {
   "cell_type": "code",
   "execution_count": 30,
   "metadata": {},
   "outputs": [],
   "source": [
    "# Create Masks for the patients who show up and for the patients who did not show up.\n",
    "show = df['Noshow'] == 'No'\n",
    "Noshow = df['Noshow'] == 'Yes'"
   ]
  },
  {
   "cell_type": "code",
   "execution_count": 31,
   "metadata": {},
   "outputs": [
    {
     "data": {
      "text/plain": [
       "True     88207\n",
       "False    22319\n",
       "Name: Noshow, dtype: int64"
      ]
     },
     "execution_count": 31,
     "metadata": {},
     "output_type": "execute_result"
    }
   ],
   "source": [
    "# check the number of patients who show versus the number of patients who did not show.\n",
    "# it shown that almost 20% of the patients did NOT show up in accord to the appointment\n",
    "show.value_counts()"
   ]
  },
  {
   "cell_type": "code",
   "execution_count": 32,
   "metadata": {},
   "outputs": [
    {
     "data": {
      "image/png": "[encoded data removed]",
      "text/plain": [
       "<Figure size 432x288 with 1 Axes>"
      ]
     },
     "metadata": {
      "needs_background": "light"
     },
     "output_type": "display_data"
    }
   ],
   "source": [
    "# create a bar chart showing show vs Noshow counts\n",
    "plt.bar(['Show', 'Noshow'],[show.value_counts()[1],Noshow.value_counts()[1]], color='blue')\n",
    "plt.title('Number of patients who showup and did NOT showup')\n",
    "plt.ylabel('Number of patients');"
   ]
  },
  {
   "cell_type": "markdown",
   "metadata": {},
   "source": [
    "> Around 20% of patients did NOT show up to the appointment"
   ]
  },
  {
   "cell_type": "code",
   "execution_count": 33,
   "metadata": {},
   "outputs": [
    {
     "data": {
      "text/plain": [
       "F    57245\n",
       "M    30962\n",
       "Name: Gender, dtype: int64"
      ]
     },
     "execution_count": 33,
     "metadata": {},
     "output_type": "execute_result"
    }
   ],
   "source": [
    "# The count of patients who showup in each gender\n",
    "df.Gender[show].value_counts()"
   ]
  },
  {
   "cell_type": "code",
   "execution_count": 34,
   "metadata": {},
   "outputs": [
    {
     "data": {
      "text/plain": [
       "F    14594\n",
       "M     7725\n",
       "Name: Gender, dtype: int64"
      ]
     },
     "execution_count": 34,
     "metadata": {},
     "output_type": "execute_result"
    }
   ],
   "source": [
    "# The count of patiemts who DID NOT showup in each gender\n",
    "df.Gender[Noshow].value_counts()"
   ]
  },
  {
   "cell_type": "code",
   "execution_count": 35,
   "metadata": {},
   "outputs": [
    {
     "data": {
      "text/plain": [
       "3.9225023982458547"
      ]
     },
     "execution_count": 35,
     "metadata": {},
     "output_type": "execute_result"
    }
   ],
   "source": [
    "# let's calculate the proprtion of Females who showup compared to Females who did NOT showup\n",
    "Female_proportion = df.Gender[show].value_counts()[0]/df.Gender[Noshow].value_counts()[0]\n",
    "Female_proportion"
   ]
  },
  {
   "cell_type": "code",
   "execution_count": 36,
   "metadata": {},
   "outputs": [
    {
     "data": {
      "text/plain": [
       "4.008025889967637"
      ]
     },
     "execution_count": 36,
     "metadata": {},
     "output_type": "execute_result"
    }
   ],
   "source": [
    "# let's calculate the proprtion of Males who showup compared to males who did NOT showup\n",
    "Male_proportion = df.Gender[show].value_counts()[1]/df.Gender[Noshow].value_counts()[1]\n",
    "Male_proportion"
   ]
  },
  {
   "cell_type": "code",
   "execution_count": 34,
   "metadata": {},
   "outputs": [
    {
     "data": {
      "image/png": "[encoded data removed]",
      "text/plain": [
       "<Figure size 432x288 with 1 Axes>"
      ]
     },
     "metadata": {
      "needs_background": "light"
     },
     "output_type": "display_data"
    }
   ],
   "source": [
    "# create a bar chart showing Females and Males proportion who showup with compared to who did NOT showup \n",
    "plt.bar(['Females', 'Males'],[Female_proportion,Male_proportion], color='blue')\n",
    "plt.title('Proportion of Females and Males patients')\n",
    "plt.xlabel('Gender')\n",
    "plt.ylabel('Proportion');"
   ]
  },
  {
   "cell_type": "markdown",
   "metadata": {},
   "source": [
    "> **_From the bar chart above, it clearly shows the proportion for each of the Females and males who showup compared to the ones who did NOT showup are almost the same.\n",
    "Hence, if proportion is considered, Gender variable do not have an impact on patients who DID NOT showup in the appointment._**"
   ]
  },
  {
   "cell_type": "markdown",
   "metadata": {},
   "source": [
    "### **Gender has a large impact of patients who did not show up in the appointment as Females represents 65.3% out of the all patients who did not showup in the appointment._**"
   ]
  },
  {
   "cell_type": "code",
   "execution_count": null,
   "metadata": {},
   "outputs": [],
   "source": [
    "> Note: **Scheduled day : is the day someone called or registered the appointment, this is before appointment of course.\n",
    "Appointment day: is the day of the actual appointment.**\n",
    "The data will be checked accordingly.If some data shows that scheduled day is after the appointment day, does this has a co-relation with the patients Not show conditions?"
   ]
  },
  {
   "cell_type": "code",
   "execution_count": 87,
   "metadata": {},
   "outputs": [
    {
     "data": {
      "text/plain": [
       "20522"
      ]
     },
     "execution_count": 87,
     "metadata": {},
     "output_type": "execute_result"
    }
   ],
   "source": [
    "# Check the total counts of appointment day after the schedule day\n",
    "df1.query(\"ScheduledDay < AppointmentDay\").value_counts().sum()"
   ]
  },
  {
   "cell_type": "code",
   "execution_count": 88,
   "metadata": {},
   "outputs": [
    {
     "data": {
      "text/plain": [
       "1797"
      ]
     },
     "execution_count": 88,
     "metadata": {},
     "output_type": "execute_result"
    }
   ],
   "source": [
    "# check the total count of appointment day before the schedule day (oddity)\n",
    "df1.query(\"ScheduledDay >= AppointmentDay\").value_counts().sum()"
   ]
  },
  {
   "cell_type": "code",
   "execution_count": 89,
   "metadata": {},
   "outputs": [
    {
     "data": {
      "text/plain": [
       "71959"
      ]
     },
     "execution_count": 89,
     "metadata": {},
     "output_type": "execute_result"
    }
   ],
   "source": [
    "# Check the total counts of appointment day after the schedule day\n",
    "df.query(\"ScheduledDay < AppointmentDay\").value_counts().sum()"
   ]
  },
  {
   "cell_type": "code",
   "execution_count": 90,
   "metadata": {},
   "outputs": [
    {
     "data": {
      "text/plain": [
       "38567"
      ]
     },
     "execution_count": 90,
     "metadata": {},
     "output_type": "execute_result"
    }
   ],
   "source": [
    "# check the total count of appointment day before the schedule day (oddity)\n",
    "df.query(\"ScheduledDay >= AppointmentDay\").value_counts().sum()"
   ]
  },
  {
   "cell_type": "code",
   "execution_count": 38,
   "metadata": {},
   "outputs": [
    {
     "data": {
      "text/plain": [
       "Gender  ScheduledDay          AppointmentDay        Age   Scholarship  Hipertension  Diabetes  Alcoholism  Handcap  SMSreceived  Noshow\n",
       "M       2016-05-10T08:18:24Z  2016-05-10T00:00:00Z  16.0  0            0             0         0           0        0            Yes       4\n",
       "F       2016-06-01T17:50:37Z  2016-06-01T00:00:00Z  12.0  0            0             0         0           0        0            No        3\n",
       "M       2016-05-06T15:31:47Z  2016-05-06T00:00:00Z  14.0  0            0             0         0           0        0            No        3\n",
       "        2016-06-03T08:51:28Z  2016-06-03T00:00:00Z  17.0  0            0             0         0           0        0            Yes       3\n",
       "        2016-05-10T08:18:24Z  2016-05-10T00:00:00Z  17.0  0            0             0         0           0        0            Yes       3\n",
       "                                                                                                                                          ..\n",
       "        2016-05-04T09:52:21Z  2016-05-04T00:00:00Z  51.0  0            0             0         0           0        0            No        1\n",
       "        2016-05-04T09:48:48Z  2016-05-04T00:00:00Z  56.0  0            0             0         0           0        0            No        1\n",
       "        2016-05-04T09:44:05Z  2016-05-04T00:00:00Z  4.0   0            0             0         0           0        0            No        1\n",
       "        2016-05-04T09:41:05Z  2016-05-04T00:00:00Z  56.0  0            0             0         0           0        0            No        1\n",
       "F       2016-04-29T06:53:34Z  2016-04-29T00:00:00Z  47.0  0            1             1         0           0        0            No        1\n",
       "Length: 38402, dtype: int64"
      ]
     },
     "execution_count": 38,
     "metadata": {},
     "output_type": "execute_result"
    }
   ],
   "source": [
    "df.query(\"ScheduledDay >= AppointmentDay\").value_counts()"
   ]
  },
  {
   "cell_type": "code",
   "execution_count": 39,
   "metadata": {
    "scrolled": false
   },
   "outputs": [
    {
     "data": {
      "text/plain": [
       "No     36770\n",
       "Yes     1797\n",
       "Name: Noshow, dtype: int64"
      ]
     },
     "execution_count": 39,
     "metadata": {},
     "output_type": "execute_result"
    }
   ],
   "source": [
    "# check if appointment day is before the schedule day, which will be utilized in the analysis\n",
    "wrong_appointment_day = df.query(\"ScheduledDay >= AppointmentDay\")['Noshow'].value_counts()\n",
    "wrong_appointment_day"
   ]
  },
  {
   "cell_type": "code",
   "execution_count": 40,
   "metadata": {
    "scrolled": false
   },
   "outputs": [
    {
     "data": {
      "text/plain": [
       "No     51437\n",
       "Yes    20522\n",
       "Name: Noshow, dtype: int64"
      ]
     },
     "execution_count": 40,
     "metadata": {},
     "output_type": "execute_result"
    }
   ],
   "source": [
    "# check if the appointment day is after the schedule day\n",
    "correct_appointment_day = df.query(\"ScheduledDay < AppointmentDay\")['Noshow'].value_counts()\n",
    "correct_appointment_day"
   ]
  },
  {
   "cell_type": "code",
   "execution_count": 41,
   "metadata": {},
   "outputs": [
    {
     "data": {
      "image/png": "[encoded data removed]",
      "text/plain": [
       "<Figure size 432x288 with 1 Axes>"
      ]
     },
     "metadata": {
      "needs_background": "light"
     },
     "output_type": "display_data"
    }
   ],
   "source": [
    "# create a bar plot showing showup conditions with correct and wrong appointment day\n",
    "plt.bar(['wrong(Yes)', 'wrong(No)', 'correct(Yes)', 'correct(No)'],[wrong_appointment_day[0],wrong_appointment_day[1],correct_appointment_day[0], correct_appointment_day[1]])\n",
    "plt.title('Patients showup condition with correct and wrong Appointment day')\n",
    "plt.ylabel('Number of patients');"
   ]
  },
  {
   "cell_type": "markdown",
   "metadata": {},
   "source": [
    "> The count of data with an oddity in appointment or scheduled day (Appointment day shown after the scheduled day) is around 35% of the whole data. Additionally, the count of patients who did Not show up at wrong appointment or scheduled day shows 1797 (which represents 8% of the total number of patients who did Not show up).\n",
    "From the plot above, so there is no co-relation between oddity in sceduled day lead to the patients show up condition.\n",
    "Another point to ponder is to check if there is a relation between appointment/scheduled day and SMS recieved variable, Does the patient receives any message if there is a change required in the appointment day?"
   ]
  },
  {
   "cell_type": "code",
   "execution_count": 91,
   "metadata": {
    "scrolled": true
   },
   "outputs": [
    {
     "data": {
      "text/plain": [
       "0    1797\n",
       "Name: SMSreceived, dtype: int64"
      ]
     },
     "execution_count": 91,
     "metadata": {},
     "output_type": "execute_result"
    }
   ],
   "source": [
    "# check the counts of patients who received an SMS and apointment day after the schedule day\n",
    "df1.query(\"ScheduledDay >= AppointmentDay\")['SMSreceived'].value_counts()"
   ]
  },
  {
   "cell_type": "code",
   "execution_count": 92,
   "metadata": {
    "scrolled": true
   },
   "outputs": [
    {
     "data": {
      "text/plain": [
       "0    10738\n",
       "1     9784\n",
       "Name: SMSreceived, dtype: int64"
      ]
     },
     "execution_count": 92,
     "metadata": {},
     "output_type": "execute_result"
    }
   ],
   "source": [
    "# check the counts of patients who received an SMS and apointmnet day before the schedule day\n",
    "df1.query(\"ScheduledDay < AppointmentDay\")['SMSreceived'].value_counts()"
   ]
  },
  {
   "cell_type": "markdown",
   "metadata": {},
   "source": [
    "> it is noticed that none of the patients with ODDITY in appointment day receives an SMS. "
   ]
  },
  {
   "cell_type": "markdown",
   "metadata": {},
   "source": [
    "### **Oddity in appointment day has no impact of patients who did not show up in the appointment._**"
   ]
  },
  {
   "cell_type": "markdown",
   "metadata": {},
   "source": [
    "### Q8. Does Age variable has co-relation with patients who did not showup?"
   ]
  },
  {
   "cell_type": "code",
   "execution_count": 95,
   "metadata": {
    "scrolled": true
   },
   "outputs": [
    {
     "data": {
      "text/plain": [
       "0.5      639\n",
       "1.0      415\n",
       "17.0     396\n",
       "19.0     394\n",
       "30.0     369\n",
       "        ... \n",
       "95.0       6\n",
       "115.0      3\n",
       "97.0       2\n",
       "98.0       1\n",
       "96.0       1\n",
       "Name: Age, Length: 100, dtype: int64"
      ]
     },
     "execution_count": 95,
     "metadata": {},
     "output_type": "execute_result"
    }
   ],
   "source": [
    "# Display counts of patients who show up in the appointmnet according to their age\n",
    "df1.Age.value_counts()"
   ]
  },
  {
   "cell_type": "code",
   "execution_count": 98,
   "metadata": {
    "scrolled": true
   },
   "outputs": [
    {
     "data": {
      "text/plain": [
       "Noshow\n",
       "No     37.806943\n",
       "Yes    34.331982\n",
       "Name: Age, dtype: float64"
      ]
     },
     "execution_count": 98,
     "metadata": {},
     "output_type": "execute_result"
    }
   ],
   "source": [
    "# calculate the mean age of patients who show up in the appointment\n",
    "df.groupby('Noshow').Age.mean()"
   ]
  },
  {
   "cell_type": "code",
   "execution_count": 99,
   "metadata": {
    "scrolled": false
   },
   "outputs": [
    {
     "data": {
      "text/plain": [
       "Noshow  Age  \n",
       "No      0.5      2900\n",
       "        1.0      1858\n",
       "        52.0     1449\n",
       "        56.0     1372\n",
       "        2.0      1366\n",
       "                 ... \n",
       "Yes     95.0        6\n",
       "        115.0       3\n",
       "        97.0        2\n",
       "        96.0        1\n",
       "        98.0        1\n",
       "Name: Age, Length: 203, dtype: int64"
      ]
     },
     "execution_count": 99,
     "metadata": {},
     "output_type": "execute_result"
    }
   ],
   "source": [
    "# calculate the mean age of patients who show up in the appointment\n",
    "df.groupby('Noshow').Age.value_counts()"
   ]
  },
  {
   "cell_type": "code",
   "execution_count": 100,
   "metadata": {
    "scrolled": false
   },
   "outputs": [
    {
     "data": {
      "image/png": "[encoded data removed]",
      "text/plain": [
       "<Figure size 432x288 with 1 Axes>"
      ]
     },
     "metadata": {
      "needs_background": "light"
     },
     "output_type": "display_data"
    }
   ],
   "source": [
    "# plot the distribution of age and number of patiemts with show up conditions\n",
    "df.Age[show].hist(alpha=0.5, bins=40, color= 'blue', label='Show')\n",
    "df.Age[Noshow].hist(alpha=0.5, bins=40, color='orange', label= 'Noshow')\n",
    "plt.title('Number of patients vs Age with showup conditions')\n",
    "plt.xlabel('Age')\n",
    "plt.ylabel('Number of patients')\n",
    "plt.legend();"
   ]
  },
  {
   "cell_type": "markdown",
   "metadata": {},
   "source": [
    "**_The above plot shows NO co-relation between age and Number of patients who did not show up._**"
   ]
  },
  {
   "cell_type": "markdown",
   "metadata": {},
   "source": [
    "<a id='conclusions'></a>\n",
    "## Conclusions\n",
    "\n",
    "> The Analysis above shows that there are mutiple strong factors contributing to the patients of not Showing up in the appointment such as Scholarship representing 88.4%, SMSreceived representing 56.4%, Female Gender representing 65%, and Hipertension representing 17%. In addition to various minor factors like Diabetes representing 6.4%, Alcoholism representing 3% and Handcap representing 1.8%. Whereas, Age variable and the oddity in appointment day in the datset does not have an impact on the number of patients who did not show in the appointment.\n",
    "The are two limitations faced in the analysis report as following: correcting the oddity in the appointment day without basis. Furthermore, the Handcap variable with mutiple values other than 0 and 1 such as 2,3 and 4 value (total 199 rows) are all replaced to a value 1 ,but it can be either removed as it represent 0.18% of all the size of the data or keep it.\n",
    "Additional Limitation is i could not make use of Neighborhood variable provided without information about patient location."
   ]
  }
 ],
 "metadata": {
  "kernelspec": {
   "display_name": "Python 3 (ipykernel)",
   "language": "python",
   "name": "python3"
  },
  "language_info": {
   "codemirror_mode": {
    "name": "ipython",
    "version": 3
   },
   "file_extension": ".py",
   "mimetype": "text/x-python",
   "name": "python",
   "nbconvert_exporter": "python",
   "pygments_lexer": "ipython3",
   "version": "3.9.7"
  }
 },
 "nbformat": 4,
 "nbformat_minor": 2
}
